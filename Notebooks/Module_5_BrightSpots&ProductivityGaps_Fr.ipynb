{
 "cells": [
  {
   "cell_type": "markdown",
   "metadata": {},
   "source": [
    "## Module 5 - Dans ce notebook Jupyter, l'objectif de productivité et les écarts de productivité sont calculés\n",
    "* Etape 5a - Réglages\n",
    "* Etape 5b - Calculer l'objectif de productivité \n",
    "* Etape 5c - Identifier les zones prospères\n",
    "* Etape 5d - calculer les écarts de productivité \n",
    "**===========================================================================================================**\n",
    "![title](img/Fig5.PNG)\n",
    "**===========================================================================================================**"
   ]
  },
  {
   "cell_type": "markdown",
   "metadata": {},
   "source": [
    "## Etape 5a - Réglages"
   ]
  },
  {
   "cell_type": "markdown",
   "metadata": {},
   "source": [
    "## i) Importer les packages/librairies"
   ]
  },
  {
   "cell_type": "code",
   "execution_count": 1,
   "metadata": {},
   "outputs": [],
   "source": [
    "import os\n",
    "import glob\n",
    "\n",
    "import numpy as np\n",
    "import pandas as pd\n",
    "from matplotlib.patches import Rectangle                # A partir de mpl_toolkits.axes_grid1 importer make_axes_locatable\n",
    "import matplotlib.lines as mlines                       # Aide à synchroniser la barre de couleur avec la taille du tracé\n",
    "from matplotlib import colors\n",
    "from mpl_toolkits.axes_grid1 import make_axes_locatable  # Aide à synchroniser la barre de couleur avec la taille du tracé\n",
    "from matplotlib import pyplot as plt\n",
    "\n",
    "# changer le répertoire à là ou les modules sont enregistrés\n",
    "os.chdir(os.path.join(os.path.split(os.getcwd())[0], \"Modules\"))\n",
    "from GIS_functions import GIS_function as gis"
   ]
  },
  {
   "cell_type": "markdown",
   "metadata": {},
   "source": [
    "## Etape 5b - Calculer l'objectif de productivité "
   ]
  },
  {
   "cell_type": "markdown",
   "metadata": {},
   "source": [
    "## i) Definir la fonction de traçage de l'objectif de productivité"
   ]
  },
  {
   "cell_type": "code",
   "execution_count": 2,
   "metadata": {},
   "outputs": [],
   "source": [
    "def plotProductivityTargets (x, y, WP, title1,xlable1,ylable1,title2,xlable2,ylable2): \n",
    "    fig, (ax1, ax2) = plt.subplots(nrows=1, ncols=2, figsize=(12, 4))\n",
    "\n",
    "    ax1.scatter(y,\n",
    "                WP,\n",
    "                marker='*',color=\"grey\")\n",
    "\n",
    "    ax1.scatter(np.nanpercentile(y, 95),\n",
    "                np.nanpercentile(WP, 95),\n",
    "                marker='*', color='black', s=100)\n",
    "\n",
    "    ax1.axvline(np.nanpercentile(y, 95),\n",
    "                color=\"#EE6666\", linestyle=\"--\")\n",
    "    \n",
    "    ax1.axhline(np.nanpercentile(WP, 95),\n",
    "                color=\"#EE6666\", linestyle=\"--\")    \n",
    "    \n",
    "    # ax2 pour histogramme\n",
    "    counts, bins, patches = ax2.hist(WP, bins=100, facecolor='skyblue', edgecolor='none', histtype=\"bar\")\n",
    "\n",
    "    # ajouter la légende \n",
    "    fakeLine = plt.Line2D([0,0], [0,1], color=\"#EE6666\", linestyle='--')\n",
    "    fakemark = mlines.Line2D([], [], color='black', marker='*', markersize=10)\n",
    "    ax2.legend([fakeLine, fakemark], [\"95 percentile\", 'Productivity target'])\n",
    "\n",
    "    # Coleurs des différents centiles de l'histogramme\n",
    "    twentyfifth, ninetyfifth = np.nanpercentile(WP, [5, 95])\n",
    "    for patch, leftside, rightside in zip(patches, bins[:-1], bins[1:]):\n",
    "        if rightside < twentyfifth:\n",
    "            patch.set_facecolor('#EE6666')\n",
    "        elif leftside > ninetyfifth:\n",
    "            patch.set_facecolor('green')\n",
    "\n",
    "    # créer la legende\n",
    "    handles = [Rectangle((0, 0), 1, 1, color=c, ec=\"k\") for c in ['#EE6666', 'green']]\n",
    "    labels = [\"0-5 Percentile\",\">95 Percentile\"]\n",
    "    plt.legend(handles, labels)\n",
    "\n",
    "    # Titre  \n",
    "    ax1.set_title(title1, fontsize=14)\n",
    "    ax1.set_xlabel(xlable1, fontsize=13)\n",
    "    ax1.set_ylabel(ylable1, fontsize=13)\n",
    "\n",
    "    ax2.set_title(title2, fontsize=14)\n",
    "    ax2.set_xlabel(xlable2, fontsize=13)\n",
    "    ax2.set_ylabel(ylable2, fontsize=13)\n",
    "\n",
    "    return None "
   ]
  },
  {
   "cell_type": "markdown",
   "metadata": {},
   "source": [
    "## ii) Calculer l'objectif de biomasse et l'objectif de productivité en biomasse de l'eau"
   ]
  },
  {
   "cell_type": "markdown",
   "metadata": {},
   "source": [
    "## * Importer les données d'entrée ( ${ET_a}$ saisonnière, biomasse et données raster de la PEb-WPb)"
   ]
  },
  {
   "cell_type": "code",
   "execution_count": 3,
   "metadata": {},
   "outputs": [],
   "source": [
    "dir_proj = os.path.split(os.getcwd())[0]   \n",
    "dir_data = \"Data\"\n",
    "\n",
    "input_ETfolder    = os.path.join(dir_proj, dir_data, \"2L2_AETI_season\") \n",
    "input_ETfhs       = glob.glob(input_ETfolder + '\\*.tif')\n",
    "\n",
    "input_AGBMfolder  = os.path.join(dir_proj, dir_data, \"4L2_Biomass\") \n",
    "input_AGBMfhs     = glob.glob(input_AGBMfolder + '\\*.tif')\n",
    "\n",
    "input_WPbfolder   = os.path.join(dir_proj, dir_data, \"4L2_WPb\") \n",
    "input_WPbfhs      = glob.glob(input_WPbfolder + '\\*.tif')\n",
    "\n",
    "input_ETfhs , input_AGBMfhs, input_WPbfhs"
   ]
  },
  {
   "cell_type": "markdown",
   "metadata": {},
   "source": [
    "## **  Calculer l'objectif de biomasse et l'objectif de PE biomasse"
   ]
  },
  {
   "cell_type": "code",
   "execution_count": 4,
   "metadata": {},
   "outputs": [],
   "source": [
    "in_fh = input_ETfhs[0]      \n",
    "driver, NDV, xsize, ysize, GeoT, Projection = gis.GetGeoInfo(in_fh)\n",
    "spatial_extent = (GeoT[0], GeoT[0] + GeoT[1] * xsize, GeoT[3] + GeoT[5] * ysize, GeoT[3])  # Obtenir l'étendue spatiale du raster\n",
    "\n",
    "Season        = []\n",
    "BiomassTarget = []\n",
    "WPbTarget     = []\n",
    "\n",
    "for in_fhET, in_fhAGBM, in_fhWPb in zip(input_ETfhs, input_AGBMfhs, input_WPbfhs): \n",
    "    AETI   = gis.OpenAsArray(in_fhET, nan_values=True) \n",
    "    AGBM   = gis.OpenAsArray(in_fhAGBM,  nan_values=True) \n",
    "    WPb    = gis.OpenAsArray(in_fhWPb, nan_values=True)\n",
    "    \n",
    "    # Changer la forme des matrices\n",
    "    AETI_1D    = np.reshape(AETI, AETI.shape[0]*AETI.shape[1])\n",
    "    Biomass_1D = np.reshape(AGBM, AGBM.shape[0] * AGBM.shape[1])\n",
    "    WPb_1D     = np.reshape(WPb, WPb.shape[0] * WPb.shape[1])\n",
    "    \n",
    "    # Objectifs de productivité\n",
    "    Target_biomass = round(np.nanpercentile(Biomass_1D, 95), 0)  # Rendement au 95 centile\n",
    "    TargetWP       = round(np.nanpercentile(WPb_1D, 95), 1)         # PE au 95 centile\n",
    "    \n",
    "    # Identifier la date à partir du nom du fichier\n",
    "    date  = os.path.basename(in_fhET).split('.')[0].replace('AETI', '').replace('_', ' ')\n",
    "    \n",
    "    Season.append(date)\n",
    "    BiomassTarget.append(Target_biomass)\n",
    "    WPbTarget.append(TargetWP)\n",
    "    \n",
    "    # Digramme de dispersion du rendement vs PE et histogramme de la PE pour 2017\n",
    "    year = int(date.split (' ')[1].split('-')[0])\n",
    "    if year == 2017:\n",
    "        title1  = 'Biomass vs WPb'+date\n",
    "        xlable1 = 'Biomass [ton/ha]'\n",
    "        ylable1 = 'WPb [kg/m3]'\n",
    "        \n",
    "        title2  = 'WPb'+date\n",
    "        xlable2 = 'WPb [ton/ha]'\n",
    "        ylable2 = 'Number of pixels'\n",
    "        \n",
    "        title1,xlable1,ylable1\n",
    "        plotProductivityTargets(AETI_1D,  Biomass_1D, WPb_1D, title1,xlable1,ylable1, title2,xlable2,ylable2)\n",
    "\n",
    "# enrgistrer les données en trame de données - forme tabulaire\n",
    "data_tuples = list(zip(Season, BiomassTarget, WPbTarget))\n",
    "df_targets = pd.DataFrame(data_tuples, columns=['Season', 'Target_biomass', 'Target_WPb'])\n",
    "print(df_targets);"
   ]
  },
  {
   "cell_type": "markdown",
   "metadata": {},
   "source": [
    "## iii) Calculer l'obejctif de rendement cultural et l'objectif de la productivité culturale de l'eau"
   ]
  },
  {
   "cell_type": "markdown",
   "metadata": {},
   "source": [
    "## * Importer les données d'entrée (${ET_a}$ Saisonnière, rendement cultural et les données raster PEc-WPy)"
   ]
  },
  {
   "cell_type": "code",
   "execution_count": 5,
   "metadata": {},
   "outputs": [],
   "source": [
    "dir_proj = os.path.split(os.getcwd())[0]   \n",
    "dir_data = \"Data\"\n",
    "\n",
    "input_ETfolder    = os.path.join(dir_proj, dir_data, \"2L2_AETI_season\") \n",
    "input_ETfhs       = glob.glob(input_ETfolder + '\\*.tif')\n",
    "\n",
    "input_Yieldfolder  = os.path.join(dir_proj, dir_data, \"4L2_Yield\") \n",
    "input_Yieldfhs     = glob.glob(input_Yieldfolder + '\\*.tif')\n",
    "\n",
    "input_WPyfolder   = os.path.join(dir_proj, dir_data, \"4L2_WPy\") \n",
    "input_WPyfhs      = glob.glob(input_WPyfolder + '\\*.tif')\n",
    "\n",
    "input_ETfhs , input_Yieldfhs, input_WPyfhs"
   ]
  },
  {
   "cell_type": "markdown",
   "metadata": {},
   "source": [
    "## ** Calculer l'obejctif de rendement cultural et l'objectif de la PE de la culture"
   ]
  },
  {
   "cell_type": "code",
   "execution_count": 6,
   "metadata": {},
   "outputs": [],
   "source": [
    "in_fh = input_ETfhs[0]      \n",
    "driver, NDV, xsize, ysize, GeoT, Projection = gis.GetGeoInfo(in_fh)\n",
    "spatial_extent = (GeoT[0], GeoT[0] + GeoT[1] * xsize, GeoT[3] + GeoT[5] * ysize, GeoT[3])  # Obtenir l'étendue spatiale du raster\n",
    "\n",
    "Season        = []\n",
    "YieldTarget   = []\n",
    "WPyTarget     = []\n",
    "\n",
    "year = 2009\n",
    "for in_fhET, in_fhYield, in_fhWPy in zip(input_ETfhs, input_Yieldfhs, input_WPyfhs): \n",
    "    AETI   = gis.OpenAsArray(in_fhET, nan_values=True) \n",
    "    Yield  = gis.OpenAsArray(in_fhYield,  nan_values=True) \n",
    "    WPy    = gis.OpenAsArray(in_fhWPy, nan_values=True)\n",
    "    \n",
    "    # Changer la forme des matrices\n",
    "    AETI_1D    = np.reshape(AETI, AETI.shape[0]*AETI.shape[1])\n",
    "    Yield_1D   = np.reshape(Yield, Yield.shape[0] * Yield.shape[1])\n",
    "    WPy_1D     = np.reshape(WPy, WPy.shape[0] * WPy.shape[1])\n",
    "    \n",
    "    # Objectifs de productivité\n",
    "    Target_yield   = round(np.nanpercentile(Yield_1D, 95), 0)  # Yield at 95 percentile\n",
    "    TargetWP       = round(np.nanpercentile(WPy_1D, 95), 1)         # WP at 95 percentile\n",
    "    \n",
    "    # Identifier la date à partir du nom du fichier\n",
    "    date  = os.path.basename(in_fhET).split('.')[0].replace('AETI', '').replace('_', ' ')\n",
    "    \n",
    "    Season.append(date)\n",
    "    YieldTarget.append(Target_yield)\n",
    "    WPyTarget.append(TargetWP )\n",
    "    \n",
    "    # Digramme de dispersion du rendement vs PE et histogramme de la PE pour 2017\n",
    "    year = int(date.split (' ')[1].split('-')[0])\n",
    "    if year == 2017:\n",
    "        title1  = 'Crop yield vs WPy'+date\n",
    "        xlable1 = 'Crop yield[ton/ha]'\n",
    "        ylable1 = 'WPy [kg/m3]'\n",
    "        \n",
    "        title2  = 'WPy'+date\n",
    "        xlable2 = 'WPy [ton/ha]'\n",
    "        ylable2 = 'Number of pixels'\n",
    "        \n",
    "        title1,xlable1,ylable1\n",
    "        plotProductivityTargets(AETI_1D,  Yield_1D, WPy_1D, title1,xlable1,ylable1, title2,xlable2,ylable2)\n",
    "        \n",
    "    year += 1\n",
    "\n",
    "# enrgistrer les données en trame de données - forme tabulaire\n",
    "data_tuples = list(zip(Season, YieldTarget, WPyTarget))\n",
    "df_targets = pd.DataFrame(data_tuples, columns=['Season', 'Target_yield', 'Target_WPy'])\n",
    "print(df_targets);"
   ]
  },
  {
   "cell_type": "markdown",
   "metadata": {},
   "source": [
    "## Etape 5c - Identifier les zones prospères \n",
    "* Les zones prospères sont identifiées sur la base de l'objectif de biomasse et l'objectif de la productivité en de l'eau (PEb"
   ]
  },
  {
   "cell_type": "markdown",
   "metadata": {},
   "source": [
    "## i) Importer les données d'entrée (${ET_a}$ saisonnière, biomasse et données raster de la PEb-WPb)"
   ]
  },
  {
   "cell_type": "code",
   "execution_count": 7,
   "metadata": {},
   "outputs": [],
   "source": [
    "dir_proj = os.path.split(os.getcwd())[0]   \n",
    "dir_data = \"Data\"\n",
    "\n",
    "input_ETfolder    = os.path.join(dir_proj, dir_data, \"2L2_AETI_season\") \n",
    "input_ETfhs       = glob.glob(input_ETfolder + '\\*.tif')\n",
    "\n",
    "input_AGBMfolder  = os.path.join(dir_proj, dir_data, \"4L2_Biomass\") \n",
    "input_AGBMfhs     = glob.glob(input_AGBMfolder + '\\*.tif')\n",
    "\n",
    "input_WPbfolder   = os.path.join(dir_proj, dir_data, \"4L2_WPb\") \n",
    "input_WPbfhs      = glob.glob(input_WPbfolder + '\\*.tif')\n",
    "\n",
    "input_ETfhs , input_AGBMfhs, input_WPbfhs"
   ]
  },
  {
   "cell_type": "markdown",
   "metadata": {},
   "source": [
    "## ii) Cartographier les zones prospères de l'espace d'étude"
   ]
  },
  {
   "cell_type": "code",
   "execution_count": 8,
   "metadata": {
    "scrolled": false
   },
   "outputs": [],
   "source": [
    "in_fh = input_ETfhs[0]      \n",
    "driver, NDV, xsize, ysize, GeoT, Projection = gis.GetGeoInfo(in_fh)\n",
    "spatial_extent = (GeoT[0], GeoT[0] + GeoT[1] * xsize, GeoT[3] + GeoT[5] * ysize, GeoT[3])  # Obtenir l'étendue spatiale du raster\n",
    "\n",
    "for in_fhET, in_fhAGBM, in_fhWPb in zip(input_ETfhs, input_AGBMfhs, input_WPbfhs): \n",
    "    AETI   = gis.OpenAsArray(in_fhET, nan_values=True) \n",
    "    AGBM   = gis.OpenAsArray(in_fhAGBM,  nan_values=True) \n",
    "    WPb    = gis.OpenAsArray(in_fhWPb, nan_values=True)\n",
    "    \n",
    "    # Changer la forme des matrices\n",
    "    AETI_1D    = np.reshape(AETI, AETI.shape[0]*AETI.shape[1])\n",
    "    Biomass_1D = np.reshape(AGBM, AGBM.shape[0] * AGBM.shape[1])\n",
    "    WPb_1D     = np.reshape(WPb, WPb.shape[0] * WPb.shape[1])\n",
    "    \n",
    "    # enrgistrer les données en trame de données - forme tabulaire\n",
    "    data_tuples = list(zip(AETI_1D,Biomass_1D,WPb_1D))\n",
    "    df          = pd.DataFrame(data_tuples, columns=['AETI','Biomass','WP'])\n",
    "    \n",
    "    # Seuils pour les objectifs\n",
    "    TargetBiomass = round(np.nanpercentile(Biomass_1D, 95), 0)\n",
    "    TargetWP      = round(np.nanpercentile(WPb_1D , 95), 1)\n",
    "    maxBiomass    = round(df[\"Biomass\"].max(),1)\n",
    "    maxWPb        = round(df[\"WP\"].max(),1)\n",
    "    \n",
    "# Identifier la date à partir du nom du fichier\n",
    "    date  = os.path.basename(in_fhET).split('.')[0].replace('AETI', '').replace('_', ' ')\n",
    "    \n",
    "    ## Tracer\n",
    "    fig, (ax1, ax2, ax3) = plt.subplots(nrows=1, ncols=3, figsize=(16, 8))\n",
    "    \n",
    "    # axe1, tracer la carte raster, mettre en évidence les Rendements supérieurs ou egaux à l'objectif\n",
    "    cmap1   = colors.ListedColormap(['lightgrey', 'green'])\n",
    "    bounds1 = [0, TargetBiomass, maxBiomass]\n",
    "    norm1   = colors.BoundaryNorm(bounds1, cmap1.N)\n",
    "    \n",
    "    img1     = ax1.imshow(AGBM, cmap=cmap1, norm=norm1, extent=spatial_extent)\n",
    "    divider1 = make_axes_locatable(ax1)\n",
    "    cax1     = divider1.append_axes(\"right\", size=\"5%\", pad=0.05)\n",
    "    fig.colorbar(img1, spacing='proportional', ax=ax1, cax=cax1)\n",
    "    ax1.set_title ('Biomass(B) >= 95 percentile ' + date, fontsize=10)\n",
    "    \n",
    "    ### ajouter les titres des axes\n",
    "    ax1.set_xlabel('Longitude ($^{\\circ}$ East)', fontsize=12)  # ajouter les titres des axes\n",
    "    ax1.set_ylabel('Latitude ($^{\\circ}$ North)', fontsize=12)\n",
    "    \n",
    "    # axe2, tracer la carte raster, mettre en évidence les Rendements supérieurs ou egaux à l'objectif \n",
    "    cmap2   = colors.ListedColormap(['lightgrey', 'red'])\n",
    "    bounds2 = [0, TargetWP, maxWPb]\n",
    "    norm2   = colors.BoundaryNorm(bounds2, cmap2.N)\n",
    " \n",
    "    img2     = ax2.imshow(WPb, cmap=cmap2, norm=norm2, extent=spatial_extent)\n",
    "    divider2 = make_axes_locatable(ax2)\n",
    "    cax2     = divider2.append_axes(\"right\", size=\"5%\", pad=0.05)\n",
    "    fig.colorbar(img2, spacing='proportional', ax=ax2, cax=cax2)\n",
    "    ax2.set_title ('B WP >= 95 percentile ' + date, fontsize=10)  \n",
    "    \n",
    "    # ax3, tracer la carte raster, mettre en évidence à la fois les rendements et PE supérieures ou égaux aux l'objectifs\n",
    "    Biomass_targeSpots      = np.where(((AGBM >= TargetBiomass ) & (WPb >= TargetWP)), AGBM, np.nan)\n",
    "    Biomass_WPb_targetSpots = np.where((AGBM  < TargetBiomass), 1, Biomass_targeSpots)\n",
    "\n",
    "    cmap3   = colors.ListedColormap(['lightgrey', 'blue'])\n",
    "    bounds3 = [0, TargetWP, maxWPb]\n",
    "    norm3   = colors.BoundaryNorm(bounds3, cmap3.N)\n",
    " \n",
    "    img3 = ax3.imshow(Biomass_WPb_targetSpots, cmap=cmap3, norm=norm3, extent=spatial_extent)\n",
    "    # barre de couleurs de figure (img3, spacing='proportionnel', ax=ax3)\n",
    "    ax3.set_title ('Biomass and WPb >= 95 percentile ' + date, fontsize=10)  \n",
    "    \n",
    "    plt.subplots_adjust(wspace=0.4)\n",
    "    \n",
    "    plt.show()\n",
    "    ;"
   ]
  },
  {
   "cell_type": "markdown",
   "metadata": {},
   "source": [
    "## Step 5d - Calculer les écarts de productivité\n",
    "* i) Ecart de biomasse et écarts de la PE biomasse\n",
    "* ii)Ecarts de rendement de la culture et écarts de la PE de la culture"
   ]
  },
  {
   "cell_type": "markdown",
   "metadata": {},
   "source": [
    "## i) Ecart de biomasse et écarts de la productivité en biomasse de l'eau"
   ]
  },
  {
   "cell_type": "markdown",
   "metadata": {},
   "source": [
    "## * Importer les données d'entrée (biomasse et données raster de la PEb-WPb)"
   ]
  },
  {
   "cell_type": "code",
   "execution_count": 9,
   "metadata": {},
   "outputs": [],
   "source": [
    "dir_proj = os.path.split(os.getcwd())[0]   \n",
    "dir_data = \"Data\"\n",
    "\n",
    "input_AGBMfolder  = os.path.join(dir_proj, dir_data, \"4L2_Biomass\") \n",
    "input_AGBMfhs     = glob.glob(input_AGBMfolder + '\\*.tif')\n",
    "\n",
    "input_WPbfolder   = os.path.join(dir_proj, dir_data, \"4L2_WPb\") \n",
    "input_WPbfhs      = glob.glob(input_WPbfolder + '\\*.tif')\n",
    "\n",
    "input_AGBMfhs, input_WPbfhs"
   ]
  },
  {
   "cell_type": "markdown",
   "metadata": {},
   "source": [
    "## * Dossier de sortie : Créer un ou connecter l'existant"
   ]
  },
  {
   "cell_type": "code",
   "execution_count": 10,
   "metadata": {},
   "outputs": [],
   "source": [
    "dir_proj = os.path.split(os.getcwd())[0]   \n",
    "dir_data = \"Data\"\n",
    "\n",
    "output_folder1 = os.path.join(dir_proj, dir_data, \"5L2_BiomassGaps\") \n",
    "output_folder2 = os.path.join(dir_proj, dir_data, \"5L2_WPbgaps\") \n",
    "\n",
    "# si le repertoire et le dossier n'existent pas, en créer\n",
    "if not os.path.exists(output_folder1):\n",
    "    os.makedirs(output_folder1) \n",
    "if not os.path.exists(output_folder2):\n",
    "    os.makedirs(output_folder2)\n",
    "\n",
    "output_folder1, output_folder2"
   ]
  },
  {
   "cell_type": "markdown",
   "metadata": {},
   "source": [
    "## ** Ecart de biomasse"
   ]
  },
  {
   "cell_type": "code",
   "execution_count": 11,
   "metadata": {
    "scrolled": false
   },
   "outputs": [],
   "source": [
    "in_fh = input_AGBMfhs[0]      \n",
    "driver, NDV, xsize, ysize, GeoT, Projection = gis.GetGeoInfo(in_fh)\n",
    "spatial_extent = (GeoT[0], GeoT[0] + GeoT[1] * xsize, GeoT[3] + GeoT[5] * ysize, GeoT[3])  # Obtenir l'étendue spatiale du raster\n",
    "\n",
    "for in_fhAGBM in input_AGBMfhs: \n",
    "    AGBM = gis.OpenAsArray(in_fhAGBM, nan_values=True) \n",
    "    \n",
    "    # objectifs de productivité et écarts de produtivité\n",
    "    Biomass_1D = np.reshape(AGBM, AGBM.shape[0] * AGBM.shape[1])  # Changer la forme des matrices\n",
    "    TargetBiomass = round(np.nanpercentile(Biomass_1D, 95), 1)\n",
    "    Biomassgap = np.where( AGBM < TargetBiomass, TargetBiomass - AGBM, np.nan)\n",
    "    \n",
    "    # Identifier la date à partir du nom du fichier\n",
    "    date  = os.path.basename(in_fhAGBM).split('.')[0].replace('AGBM', '').replace('_', ' ')\n",
    "    \n",
    "    # Enregistrer l'écart de rendement\n",
    "    output_folder = output_folder1\n",
    "    basename      = os.path.basename(in_fhAGBM).replace('AGBM','BiomassGaps')\n",
    "    output_fn     = os.path.join(output_folder, basename)\n",
    "    gis.CreateGeoTiff(output_fn, Biomassgap, driver, NDV, xsize, ysize, GeoT, Projection) \n",
    "    \n",
    "    # Tracer la carte du raster\n",
    "    seasonal = Biomassgap\n",
    "    \n",
    "    plt.figure(figsize = (12,8))\n",
    "    plt.imshow(seasonal, cmap='RdYlGn', vmin=np.nanmin(seasonal), vmax=np.nanmax(seasonal), extent=spatial_extent)\n",
    "    plt.colorbar(shrink=0.75, label ='Biomass gaps [ton/ha/season]')\n",
    "    plt.xlabel('Longitude ($^{\\circ}$ East)', fontsize=14)  # ajouter les titres des axes\n",
    "    plt.ylabel('Latitude ($^{\\circ}$ North)', fontsize=14)\n",
    "    plt.title('Biomass gaps [ton/ha/season] ' + date, fontsize=16)\n",
    "    plt.show () \n",
    "    ;"
   ]
  },
  {
   "cell_type": "markdown",
   "metadata": {},
   "source": [
    "## *** Ecarts de la PE de la Biomasse (WPb gaps)"
   ]
  },
  {
   "cell_type": "code",
   "execution_count": 12,
   "metadata": {
    "scrolled": false
   },
   "outputs": [],
   "source": [
    "in_fh = input_WPbfhs[0]      \n",
    "driver, NDV, xsize, ysize, GeoT, Projection = gis.GetGeoInfo(in_fh)\n",
    "spatial_extent = (GeoT[0], GeoT[0] + GeoT[1] * xsize, GeoT[3] + GeoT[5] * ysize, GeoT[3])  # Obtenir l'étendue spatiale du raster\n",
    "\n",
    "for in_fhWPb in input_WPbfhs: \n",
    "    WPb = gis.OpenAsArray(in_fhWPb, nan_values=True) \n",
    "    \n",
    "    # objectifs de productivité et écarts de produtivité\n",
    "    WPb_1D     = np.reshape(WPb, WPb.shape[0] * WPb.shape[1])  # Changer la forme des matrices\n",
    "    TargetWPb  = round(np.nanpercentile(WPb_1D, 95), 2)\n",
    "    WPbgap     = np.where( WPb < TargetWPb, TargetWPb - WPb, np.nan)\n",
    "    \n",
    "    # Identifier la date à partir du nom du fichier\n",
    "    date  = os.path.basename(in_fhWPb).split('.')[0].replace('WPb', '').replace('_', ' ')\n",
    "    \n",
    "    # Enregistrer l'écart de rendement\n",
    "    output_folder = output_folder2\n",
    "    basename      = os.path.basename(in_fhWPb).replace('WPb','WPbGaps')\n",
    "    output_fn     = os.path.join(output_folder, basename)\n",
    "    gis.CreateGeoTiff(output_fn,  WPbgap, driver, NDV, xsize, ysize, GeoT, Projection) \n",
    "    \n",
    "    # Tracer la carte du raster\n",
    "    seasonal =  WPbgap\n",
    "    \n",
    "    plt.figure(figsize = (12,8))\n",
    "    plt.imshow(seasonal, cmap='jet_r', vmin=np.nanmin(seasonal), vmax=np.nanmax(seasonal), extent=spatial_extent)\n",
    "    plt.colorbar(shrink=0.75, label = 'Biomass WP gaps [m3/season]')\n",
    "    plt.xlabel('Longitude ($^{\\circ}$ East)', fontsize=14)  # ajouter les titres des axes\n",
    "    plt.ylabel('Latitude ($^{\\circ}$ North)', fontsize=14)\n",
    "    plt.title('Biomass WP gaps [m3/season] ' + date, fontsize= 16)\n",
    "    plt.show () \n",
    "    ;"
   ]
  },
  {
   "cell_type": "markdown",
   "metadata": {},
   "source": [
    "## ii) Ecarts de rendement de la culture et écarts de productivité en eau de la culture"
   ]
  },
  {
   "cell_type": "markdown",
   "metadata": {},
   "source": [
    "## * Importer les données d'entrée (biomasse et données raster de la PEb-WPb)"
   ]
  },
  {
   "cell_type": "code",
   "execution_count": 13,
   "metadata": {},
   "outputs": [],
   "source": [
    "dir_proj = os.path.split(os.getcwd())[0]   \n",
    "dir_data = \"Data\"\n",
    "\n",
    "input_AGBMfolder  = os.path.join(dir_proj, dir_data, \"4L2_Yield\") \n",
    "input_Yieldfhs     = glob.glob(input_AGBMfolder + '\\*.tif')\n",
    "\n",
    "input_WPbfolder   = os.path.join(dir_proj, dir_data, \"4L2_WPy\") \n",
    "input_WPyfhs      = glob.glob(input_WPbfolder + '\\*.tif')\n",
    "\n",
    "input_Yieldfhs, input_WPbfhs"
   ]
  },
  {
   "cell_type": "markdown",
   "metadata": {},
   "source": [
    "## ** Dossier de sortie : Créer un ou connecter l'existant"
   ]
  },
  {
   "cell_type": "code",
   "execution_count": 14,
   "metadata": {},
   "outputs": [],
   "source": [
    "dir_proj = os.path.split(os.getcwd())[0]   \n",
    "dir_data = \"Data\"\n",
    "\n",
    "output_folder1 = os.path.join(dir_proj, dir_data, \"5L2_YieldGaps\") \n",
    "output_folder2 = os.path.join(dir_proj, dir_data, \"5L2_WPygaps\") \n",
    "\n",
    "# si le repertoire et le dossier n'existent pas, en créer\n",
    "if not os.path.exists(output_folder1):\n",
    "    os.makedirs(output_folder1) \n",
    "if not os.path.exists(output_folder2):\n",
    "    os.makedirs(output_folder2)\n",
    "\n",
    "output_folder1, output_folder2"
   ]
  },
  {
   "cell_type": "markdown",
   "metadata": {},
   "source": [
    "## ** Ecarts de rendement de la culture"
   ]
  },
  {
   "cell_type": "code",
   "execution_count": 15,
   "metadata": {},
   "outputs": [],
   "source": [
    "in_fh = input_Yieldfhs [0]      \n",
    "driver, NDV, xsize, ysize, GeoT, Projection = gis.GetGeoInfo(in_fh)\n",
    "spatial_extent = (GeoT[0], GeoT[0] + GeoT[1] * xsize, GeoT[3] + GeoT[5] * ysize, GeoT[3])  # Obtenir l'étendue spatiale du raster\n",
    "\n",
    "for in_fhAYield in input_Yieldfhs : \n",
    "    Yield = gis.OpenAsArray(in_fhAYield, nan_values=True) \n",
    "    \n",
    "    # objectifs de productivité et écarts de produtivité\n",
    "    Yield_1D    = np.reshape(Yield, Yield.shape[0] * Yield.shape[1])  # Changer la forme des matrices\n",
    "    TargetYield = round(np.nanpercentile(Yield_1D, 95), 1)\n",
    "    Yieldgap    = np.where( Yield < TargetYield, TargetYield - Yield, np.nan)\n",
    "    \n",
    "    # Identifier la date à partir du nom du fichier\n",
    "    date  = os.path.basename(in_fhAYield).split('.')[0].replace('Yield', '').replace('_', ' ')\n",
    "    \n",
    "    # Enregistrer l'écart de rendement\n",
    "    output_folder = output_folder1\n",
    "    basename      = os.path.basename(in_fhAYield).replace('Yield','YieldGaps')\n",
    "    output_fn     = os.path.join(output_folder, basename)\n",
    "    gis.CreateGeoTiff(output_fn, Yieldgap, driver, NDV, xsize, ysize, GeoT, Projection) \n",
    "    \n",
    "    # Tracer la carte du raster\n",
    "    seasonal = Yieldgap\n",
    "    \n",
    "    plt.figure(figsize = (12,8))\n",
    "    plt.imshow(seasonal, cmap='RdYlGn', vmin=np.nanmin(seasonal), vmax=np.nanmax(seasonal), extent=spatial_extent)\n",
    "    plt.colorbar(shrink=0.75, label ='Crop yield gaps [ton/ha/season]')\n",
    "    plt.xlabel('Longitude ($^{\\circ}$ East)', fontsize=14)  # ajouter les titres des axes\n",
    "    plt.ylabel('Latitude ($^{\\circ}$ North)', fontsize=14)\n",
    "    plt.title('Crop yield gaps [ton/ha/season] ' + date, fontsize=16)\n",
    "    plt.show () \n",
    "    ;"
   ]
  },
  {
   "cell_type": "markdown",
   "metadata": {},
   "source": [
    "## *** Ecarts de la PE de la culture"
   ]
  },
  {
   "cell_type": "code",
   "execution_count": 16,
   "metadata": {},
   "outputs": [],
   "source": [
    "in_fh = input_WPyfhs[0]      \n",
    "driver, NDV, xsize, ysize, GeoT, Projection = gis.GetGeoInfo(in_fh)\n",
    "spatial_extent = (GeoT[0], GeoT[0] + GeoT[1] * xsize, GeoT[3] + GeoT[5] * ysize, GeoT[3])  # Obtenir l'étendue spatiale du raster\n",
    "\n",
    "for in_fhWPy in input_WPyfhs: \n",
    "    WPy = gis.OpenAsArray(in_fhWPy, nan_values=True) \n",
    "    \n",
    "    # objectifs de productivité et écarts de produtivité\n",
    "    WPy_1D     = np.reshape(WPy, WPy.shape[0] * WPy.shape[1])  # Changer la forme des matrices\n",
    "    TargetWPy  = round(np.nanpercentile(WPy_1D, 95), 2)\n",
    "    WPygap     = np.where( WPy < TargetWPy, TargetWPy - WPy, np.nan)\n",
    "    \n",
    "    # Identifier la date à partir du nom du fichier\n",
    "    date  = os.path.basename(in_fhWPy).split('.')[0].replace('WPy', '').replace('_', ' ')\n",
    "    \n",
    "    # Enregistrer l'écart de rendement\n",
    "    output_folder = output_folder2\n",
    "    basename      = os.path.basename(in_fhWPy).replace('WPy','WPyGaps')\n",
    "    output_fn     = os.path.join(output_folder, basename)\n",
    "    gis.CreateGeoTiff(output_fn,  WPbgap, driver, NDV, xsize, ysize, GeoT, Projection) \n",
    "    \n",
    "    # Tracer la carte du raster\n",
    "    seasonal =  WPygap\n",
    "    \n",
    "    plt.figure(figsize = (12,8))\n",
    "    plt.imshow(seasonal, cmap='jet_r', vmin=np.nanmin(seasonal), vmax=np.nanmax(seasonal), extent=spatial_extent)\n",
    "    plt.colorbar(shrink=0.75, label = 'Crop WP gaps [m3/season]')\n",
    "    plt.xlabel('Longitude ($^{\\circ}$ East)', fontsize=14)  # ajouter les titres des axes\n",
    "    plt.ylabel('Latitude ($^{\\circ}$ North)', fontsize=14)\n",
    "    plt.title('Crop WP gaps [m3/season] ' + date, fontsize= 16)\n",
    "    plt.show () \n",
    "    ;"
   ]
  },
  {
   "cell_type": "code",
   "execution_count": null,
   "metadata": {},
   "outputs": [],
   "source": []
  }
 ],
 "metadata": {
  "kernelspec": {
   "display_name": "Python 3",
   "language": "python",
   "name": "python3"
  },
  "language_info": {
   "codemirror_mode": {
    "name": "ipython",
    "version": 3
   },
   "file_extension": ".py",
   "mimetype": "text/x-python",
   "name": "python",
   "nbconvert_exporter": "python",
   "pygments_lexer": "ipython3",
   "version": "3.8.3"
  }
 },
 "nbformat": 4,
 "nbformat_minor": 2
}
