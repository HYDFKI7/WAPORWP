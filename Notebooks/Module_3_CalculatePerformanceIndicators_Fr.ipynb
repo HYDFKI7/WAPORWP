{
 "cells": [
  {
   "cell_type": "markdown",
   "metadata": {},
   "source": [
    "## Module 3 - Dans ce notebook jupyter, les indicateurs de perfomance sont calculés \n",
    "* Etape 3a - Réglage: Importer les modules/librairies, importer les données, créer un dossier de sortie\n",
    "* Etape 3b - Calculer l'uniformité\n",
    "* Etape 3c - Calculer l'efficité (fraction bénéfique)\n",
    "* Etape 3d - Calculer l'adquation\n",
    "* Etape 3e - Calculer le déficit hydrique relatif \n",
    "**=====================================================================================================================**\n",
    "\n",
    "![title](img/Fig3_1.png)\n",
    "\n",
    "**=====================================================================================================================**\n",
    "#### <span style='background :lightgreen' > References:\n",
    "* Karimi, P., Bongani, B., Blatchford, M., and de Fraiture, C.: Global satellite-based ET products for the local level irrigation management: An application of irrigation performance assessment in the sugarbelt of Swaziland, Remote Sensing, 11, 705, 2019.\n",
    "* Bastiaanssen, W. G., and Bos, M.: Irrigation performance indicators based on remotely sensed data: a review of literature, Irrigation and drainage systems, 13, 291-311, 1999.\n",
    "* Bastiaanssen, W. G., Van der Wal, T., and Visser, T.: Diagnosis of regional evaporation by remote sensing to support irrigation performance assessment, Irrigation and Drainage Systems, 10, 1-23, 1996."
   ]
  },
  {
   "cell_type": "markdown",
   "metadata": {},
   "source": [
    "## Etape 3a - Réglage"
   ]
  },
  {
   "cell_type": "markdown",
   "metadata": {},
   "source": [
    "## i) Importer les packages/librairies"
   ]
  },
  {
   "cell_type": "code",
   "execution_count": 1,
   "metadata": {},
   "outputs": [],
   "source": [
    "import os\n",
    "import sys\n",
    "import glob\n",
    "\n",
    "import pandas as pd\n",
    "import numpy as np\n",
    "from matplotlib import pyplot as plt\n",
    "\n",
    "# changer le répertoire à là ou les modules sont enregistrés\n",
    "os.chdir(os.path.join(os.path.split(os.getcwd())[0], \"Modules\"))\n",
    "from GIS_functions import GIS_function as gis"
   ]
  },
  {
   "cell_type": "markdown",
   "metadata": {},
   "source": [
    "## ii) Importer les données d'entrée\n",
    "*  l'T, AETI (ETRI), ETp saisonnière"
   ]
  },
  {
   "cell_type": "code",
   "execution_count": 2,
   "metadata": {},
   "outputs": [],
   "source": [
    "# obtenir les données saisonnières\n",
    "T_fhs    = glob.glob(r'..\\Data\\2L2_T_season\\*.tif')\n",
    "AETI_fhs = glob.glob(r'..\\Data\\2L2_AETI_season\\*.tif')\n",
    "ETp_fhs  = glob.glob(r'..\\Data\\2L1_ETp_season\\*.tif')"
   ]
  },
  {
   "cell_type": "markdown",
   "metadata": {},
   "source": [
    "## iii) Dossier de sortie: Créer un ou connecter l'existant"
   ]
  },
  {
   "cell_type": "code",
   "execution_count": 3,
   "metadata": {},
   "outputs": [],
   "source": [
    "# output_folder (dossier de sortie)\n",
    "output_folderBF = r'..\\Data\\3_BeneficialFraction'  # créer un dossier de sortie\n",
    "output_folderAd = r'..\\Data\\3_Adequacy'  # créer un dossier de sortie\n",
    "\n",
    "# En créer un si le dossier n'existe pas\n",
    "if not os.path.exists(output_folderBF):\n",
    "    os.makedirs(output_folderBF)\n",
    "if not os.path.exists(output_folderAd):\n",
    "    os.makedirs(output_folderAd)"
   ]
  },
  {
   "cell_type": "markdown",
   "metadata": {},
   "source": [
    "## Etape 3b - Calculer l'uniformité de la consommation de l'eau\n",
    "* Equité est définie comme étant le coéfficient de variation (cv) de l'ET réelle dans la zone d'intérêt.\n",
    "* Elle mesure l'égalité de l'apport d'eau dans un périmètre irrigué. \n",
    "* Remarque: un CV of 0 à 10% est bon, 10 à 25% est acceptable et un CV > 25% est faible comme uniformité (Bastiaanssen et al., 1996) \n",
    "<br/>"
   ]
  },
  {
   "cell_type": "code",
   "execution_count": 4,
   "metadata": {},
   "outputs": [],
   "source": [
    "# Uniformité de la consommation d'eau \n",
    "# Obtenir l'AETI (ETRI) saisonnière\n",
    "# AETI_fhs = glob.glob(r'..\\Data\\2L2_AETI_season\\*.tif') \n",
    "\n",
    "for i in range(len(AETI_fhs)):\n",
    "    AETI = gis.OpenAsArray(AETI_fhs[i], nan_values=True)\n",
    "    \n",
    "    AETIm   = np.nanmean(AETI)\n",
    "    AETIsd  = np.nanstd(AETI)\n",
    "    \n",
    "    CV_AETI = (AETIsd / AETIm) * 100\n",
    "    \n",
    "    # Identifier la date à partir du nom du fichier\n",
    "    date  = os.path.basename(AETI_fhs[i]).split('.')[0].replace('AETI', '').replace('_', ' ') \n",
    "    \n",
    "    if CV_AETI < 10:\n",
    "        U = 'Good Uniformity'\n",
    "    if (CV_AETI >= 10) and (CV_AETI < 25):\n",
    "        U = 'Fair Uniformity'\n",
    "    else: \n",
    "        U = 'Poor Uniformity'\n",
    "\n",
    "    print ('CV of AETI in', date, '=', round(CV_AETI, 1), ',', U)"
   ]
  },
  {
   "cell_type": "markdown",
   "metadata": {},
   "source": [
    "## Etape 3c - Calculer l'efficacité (fraction bénéfique)\n",
    "* La fraction bénéfique est le ratio de l'eau qui est consommée et transpirée comparée à la consommation totale d'eau dans le champs (ETa). \n",
    "* $Fraction bénéfique = \\frac{T_a}{ET_a}$\n",
    "* C'est une mesure de l'efficacité de l'eau agricole et des pratiques agricole dans l'utilisation de l'eau pour la production culturale."
   ]
  },
  {
   "cell_type": "code",
   "execution_count": 5,
   "metadata": {
    "scrolled": false
   },
   "outputs": [],
   "source": [
    "# collecter les Geoinfo tels que la projection, les axes x et y\n",
    "in_fh = AETI_fhs[0]      \n",
    "driver, NDV, xsize, ysize, GeoT, Projection = gis.GetGeoInfo(in_fh)\n",
    "spatial_extent = (GeoT[0], GeoT[0] + GeoT[1] * xsize, GeoT[3] + GeoT[5] * ysize, GeoT[3])  # Obtenir l'étendue spatiale du raster\n",
    "  \n",
    "for Tfh, ETfh in zip(T_fhs, AETI_fhs):\n",
    "    T    = gis.OpenAsArray(Tfh,  nan_values=True)\n",
    "    AETI = gis.OpenAsArray(ETfh, nan_values=True)\n",
    "    \n",
    "    T_over_AETI = T/AETI\n",
    "    \n",
    "    # Identifier la date à partir du nom du fichier\n",
    "    date  = os.path.basename(ETfh).split('.')[0].replace('AETI', '').replace('_', ' ') \n",
    "    \n",
    "    # mettre à jour le nom du fichier, et enregistrer dans le dossier de sortie\n",
    "    basename  = os.path.basename(ETfh).replace('AETI', 'BF')  \n",
    "    output_fn = os.path.join(output_folderBF, basename)\n",
    "    gis.CreateGeoTiff(output_fn, T_over_AETI, driver, NDV, xsize, ysize, GeoT, Projection) \n",
    "    \n",
    "    # Tracer la carte du raster\n",
    "    seasonal = T_over_AETI\n",
    "    \n",
    "    plt.figure(figsize = (12,8))\n",
    "    plt.imshow(seasonal, cmap='RdYlGn', vmin=np.nanmin(seasonal), vmax=np.nanmax(seasonal), extent=spatial_extent)\n",
    "    plt.colorbar(shrink=0.75, label='BF [-]')\n",
    "    plt.xlabel('Longitude ($^{\\circ}$ East)', fontsize=14)  # ajouter les titres des axes\n",
    "    plt.ylabel('Latitude ($^{\\circ}$ North)', fontsize=14)\n",
    "    plt.title('Beneficial fraction [-] ' + date)\n",
    "#     plt.clim(0,1)\n",
    "    plt.show ()"
   ]
  },
  {
   "cell_type": "markdown",
   "metadata": {},
   "source": [
    "## Etape 3d - Calculer  l'adequation (évapotranspiration relative)\n",
    "$Adequation= \\frac{ET_a}{ET_p}$"
   ]
  },
  {
   "cell_type": "code",
   "execution_count": 6,
   "metadata": {
    "scrolled": false
   },
   "outputs": [],
   "source": [
    "## Calcule et enregistre la couche raster de l'adéquation\n",
    "\n",
    "# collecte des Geoinfo tels que la projection, les axes x et y\n",
    "in_fh = AETI_fhs[0]      \n",
    "driver, NDV, xsize, ysize, GeoT, Projection = gis.GetGeoInfo(in_fh)\n",
    "spatial_extent = (GeoT[0], GeoT[0] + GeoT[1] * xsize, GeoT[3] + GeoT[5] * ysize, GeoT[3])  # Obtenir l'étendue spatiale du raster\n",
    "\n",
    "for ETfh, ETpfh in zip(AETI_fhs, ETp_fhs):\n",
    "    AETI = gis.OpenAsArray(ETfh,  nan_values=True)\n",
    "    ETp  = gis.OpenAsArray(ETpfh, nan_values=True)\n",
    "    \n",
    "    ETa_by_ETp = AETI / ETp\n",
    "    \n",
    "    # Identifier la date à partir du nom du fichier\n",
    "    date  = os.path.basename(ETfh).split('.')[0].replace('AETI', '').replace('_', ' ') \n",
    "        \n",
    "    # mettre à jour le nom du fichier, et enregistrer dans le dossier de sortie\n",
    "    basename  = os.path.basename(ETfh).replace('AETI', 'Adequacy')\n",
    "    output_fn = os.path.join(output_folderAd, basename)\n",
    "    gis.CreateGeoTiff(output_fn, ETa_by_ETp, driver, NDV, xsize, ysize, GeoT, Projection) \n",
    "  \n",
    "    # Tracer la carte du raster\n",
    "    seasonal = ETa_by_ETp\n",
    "    \n",
    "    plt.figure(figsize = (12,8))\n",
    "    plt.imshow(seasonal, cmap='RdYlGn', vmin=np.nanmin(seasonal), vmax=np.nanmax(seasonal), extent=spatial_extent)\n",
    "    plt.colorbar(shrink=0.75, label='Adequacy [-]')\n",
    "    plt.xlabel('Longitude ($^{\\circ}$ East)', fontsize=12)  # ajouter les titres des axes\n",
    "    plt.ylabel('Latitude ($^{\\circ}$ North)', fontsize=12)\n",
    "    plt.title('Adequacy [-] ' + date)\n",
    "    plt.show ()\n",
    "    ;"
   ]
  },
  {
   "cell_type": "markdown",
   "metadata": {},
   "source": [
    "## Etape 3e - Calculer le Déficit hydrique de l'Eau (RWD)\n",
    "$RWD= 1-\\frac{ET_a}{ET_x}$\n",
    "<br/>${ET_x} = $ Peut être ETp ou 99 centile de l'évapotranspiration réelle"
   ]
  },
  {
   "cell_type": "code",
   "execution_count": 7,
   "metadata": {
    "scrolled": false
   },
   "outputs": [],
   "source": [
    "# collecte des Geoinfo tels que la projection, les axes x et y\n",
    "in_fh = AETI_fhs[0]      \n",
    "driver, NDV, xsize, ysize, GeoT, Projection = gis.GetGeoInfo(in_fh)\n",
    "spatial_extent = (GeoT[0], GeoT[0] + GeoT[1] * xsize, GeoT[3] + GeoT[5] * ysize, GeoT[3])  # Obtenir l'étendue spatiale du raster\n",
    "   \n",
    "for i in range(len(AETI_fhs)):\n",
    "    AETI = gis.OpenAsArray(AETI_fhs[i], nan_values=True)\n",
    "    \n",
    "    # changer la forme (reshape)des matrices\n",
    "    AETI1_1D  = np.reshape(AETI,  AETI.shape[0]*AETI.shape[1])\n",
    "    ETx       = np.nanpercentile(AETI1_1D, 99)\n",
    "    \n",
    "    AETI_mean = np.nanmean(AETI)\n",
    "   \n",
    "    RWD = 1-(AETI_mean/ETx)\n",
    "    \n",
    "    # Identifier la date à partir du nom du fichier\n",
    "    date  = os.path.basename(AETI_fhs[i]).split('.')[0].replace('AETI', '').replace('_', ' ') \n",
    "    \n",
    "    print ('Relative water deficit', date, '=', round(RWD, 2))\n",
    "    ;"
   ]
  }
 ],
 "metadata": {
  "kernelspec": {
   "display_name": "Python 3",
   "language": "python",
   "name": "python3"
  },
  "language_info": {
   "codemirror_mode": {
    "name": "ipython",
    "version": 3
   },
   "file_extension": ".py",
   "mimetype": "text/x-python",
   "name": "python",
   "nbconvert_exporter": "python",
   "pygments_lexer": "ipython3",
   "version": "3.8.3"
  }
 },
 "nbformat": 4,
 "nbformat_minor": 2
}
