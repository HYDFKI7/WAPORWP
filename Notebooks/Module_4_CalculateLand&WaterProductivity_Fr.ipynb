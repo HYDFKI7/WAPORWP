{
 "cells": [
  {
   "cell_type": "markdown",
   "metadata": {},
   "source": [
    "## Module 4 - Dans ce notebook jupyter, les productivités de la terre et de l'eau sont calculées\n",
    "* Etape 4a - Réglage\n",
    "* Etape 4b - Calculer la productivité de la terre: i) de la biomasse et ii) le rendement de la culture  \n",
    "* Etape 4c - Calculer la : i) productivité en biomasse de l'eau et ii) la productivité culturale de l'eau\n",
    "**=====================================================================================================================**\n",
    "\n",
    "![title](img/Fig4_1.png)\n",
    "\n",
    "**=====================================================================================================================**"
   ]
  },
  {
   "cell_type": "markdown",
   "metadata": {},
   "source": [
    "## Etape 4a - Réglage"
   ]
  },
  {
   "cell_type": "markdown",
   "metadata": {},
   "source": [
    "## i) Importer les packages/librairies"
   ]
  },
  {
   "cell_type": "code",
   "execution_count": 1,
   "metadata": {},
   "outputs": [],
   "source": [
    "import os\n",
    "import sys\n",
    "import glob\n",
    "\n",
    "import numpy as np\n",
    "from matplotlib import pyplot as plt\n",
    "\n",
    "# changer le répertoire à là ou les modules sont enregistrés\n",
    "os.chdir(os.path.join(os.path.split(os.getcwd())[0], \"Modules\"))\n",
    "from GIS_functions import GIS_function as gis"
   ]
  },
  {
   "cell_type": "markdown",
   "metadata": {},
   "source": [
    "## Etape 4b - Calculer la productivité de la terre\n",
    "* i) Biomasse\n",
    "* ii) Rendement de la culture"
   ]
  },
  {
   "cell_type": "markdown",
   "metadata": {},
   "source": [
    "## i) Calculer la biomasse\n",
    "$Biomass   = AOT*f_c*\\frac{NPP*22.222}{1-mc}$\n",
    "<br/>Avec AOT est le ratio de la production de biomasse au dessus du sol sur la production totale (-), fc est le facteur de correction de l'efficacité d'utilisation de la lumière[-]. NPP est la production primaire nette saisonnière en gC/m²/saison, mc est la teneur en eau de la biomasse fraiche [-] et HI l'indice de recolte"
   ]
  },
  {
   "cell_type": "markdown",
   "metadata": {},
   "source": [
    "## * Importer les données raster de la NPP saisonnière"
   ]
  },
  {
   "cell_type": "code",
   "execution_count": 2,
   "metadata": {},
   "outputs": [],
   "source": [
    "dir_proj = os.path.split(os.getcwd())[0]  # os.getcwd() est pour le repertoire actuel\n",
    "dir_data = \"Data\"\n",
    "\n",
    "input_folderNPP = os.path.join(dir_proj, dir_data, \"2L2_NPP_season\") \n",
    "input_fhsNPP    = glob.glob(input_folderNPP + '\\*.tif')\n",
    "input_fhsNPP"
   ]
  },
  {
   "cell_type": "markdown",
   "metadata": {},
   "source": [
    "## ** Parametres de la culture\n",
    "![title](img/Fig4_2.png)"
   ]
  },
  {
   "cell_type": "code",
   "execution_count": 3,
   "metadata": {},
   "outputs": [],
   "source": [
    "# Mettre à jour les paramètres culturaux spécifique à la culture\n",
    "MC = 0.7  # teneur en eau, matière sèche sur biomasse fraiche\n",
    "fc = 1.6  # Facteur de correction de l'efficacité d'utilisation de la lumière\n",
    "AOT= 0.8  # le ratio de la production de biomasse au dessus du sol sur la production totale(AOT)"
   ]
  },
  {
   "cell_type": "markdown",
   "metadata": {},
   "source": [
    "## *** Dossier de sortie pour la couche de la biomasse: Créer un ou connecter l'existant"
   ]
  },
  {
   "cell_type": "code",
   "execution_count": 4,
   "metadata": {},
   "outputs": [],
   "source": [
    "dir_proj = os.path.split(os.getcwd())[0]   \n",
    "dir_data = \"Data\"\n",
    "\n",
    "output_folderBM = os.path.join(dir_proj, dir_data, \"4L2_Biomass\") \n",
    "\n",
    "# si le repertoire et le dossier n'existent pas, en créer\n",
    "if not os.path.exists(output_folderBM):\n",
    "    os.makedirs(output_folderBM) \n",
    "output_folderBM"
   ]
  },
  {
   "cell_type": "markdown",
   "metadata": {},
   "source": [
    "## **** Calculer la biomasse au dessus du sol (AGBM)"
   ]
  },
  {
   "cell_type": "code",
   "execution_count": 5,
   "metadata": {
    "scrolled": false
   },
   "outputs": [],
   "source": [
    "# collecter les Geoinfo tels que la projection, les axes x et y\n",
    "in_fh = input_fhsNPP[0]      \n",
    "driver, NDV, xsize, ysize, GeoT, Projection = gis.GetGeoInfo(in_fh)\n",
    "spatial_extent = (GeoT[0], GeoT[0] + GeoT[1] * xsize, GeoT[3] + GeoT[5] * ysize, GeoT[3])  # Obtenir l'étendue spatiale du raster\n",
    "\n",
    "\n",
    "for in_fhNPP in input_fhsNPP:\n",
    "    NPP  = gis.OpenAsArray(in_fhNPP, nan_values=True)  \n",
    "    AGBM = (AOT * fc * (NPP * 22.222 / (1 - MC))) / 1000  # Biomasse au dessus du sol, 1000 pour convertir de kg en tonne  \n",
    "    \n",
    "    \n",
    "    # Identifier la date à partir du nom du fichier\n",
    "    date  = os.path.basename(in_fhNPP).split('.')[0].replace('NPP', '').replace('_', ' ')\n",
    "                             \n",
    "    # enregistrer dans le dossier de sortie\n",
    "    output_folder = output_folderBM                 \n",
    "    basename      = os.path.basename(in_fhNPP).replace('NPP', 'AGBM')                   \n",
    "    output_fn     = os.path.join(output_folder,basename)                   \n",
    "    gis.CreateGeoTiff(output_fn, AGBM, driver, NDV, xsize, ysize, GeoT, Projection) \n",
    "                             \n",
    "    \n",
    "    # Tracer la carte du raster\n",
    "    seasonal = AGBM\n",
    "    \n",
    "    # calculer la moyenne, et l'écart type\n",
    "    print ('the mean & SD for ',date, '=', np.nanmean(seasonal).round(1),'&',np.nanstd(seasonal).round(1))\n",
    "\n",
    "    \n",
    "    plt.figure(figsize = (12,8))\n",
    "    plt.imshow(seasonal, cmap='RdYlGn', vmin=np.nanmin(seasonal), vmax=np.nanmax(seasonal), extent=spatial_extent)\n",
    "    plt.colorbar(shrink=0.75, label='Above ground biomass [ton/ha/season]')\n",
    "    plt.xlabel('Longitude ($^{\\circ}$ East)', fontsize=12)  # ajouter les titres des axes\n",
    "    plt.ylabel('Latitude ($^{\\circ}$ North)', fontsize=12)\n",
    "    plt.title('Above ground biomass [ton/ha/season] ' + date)\n",
    "    plt.clim(30,80)\n",
    "    plt.show ()\n",
    "    ;                             "
   ]
  },
  {
   "cell_type": "markdown",
   "metadata": {},
   "source": [
    "## ii) Calculer le rendement de la culture\n",
    "* $Rendement de la culture = HI*B$\n",
    "* Avec HI l'indice de recolte, et B (ou AGBM) la biomasse au dessus du sol"
   ]
  },
  {
   "cell_type": "markdown",
   "metadata": {},
   "source": [
    "## * Importer les données raster d'entrée"
   ]
  },
  {
   "cell_type": "code",
   "execution_count": 6,
   "metadata": {},
   "outputs": [],
   "source": [
    "dir_proj = os.path.split(os.getcwd())[0]  \n",
    "dir_data = \"Data\"\n",
    "\n",
    "input_folder  = os.path.join(dir_proj, dir_data, \"4L2_Biomass\") \n",
    "input_fhsAGBM = glob.glob(input_folder + '\\*.tif')\n",
    "input_fhsAGBM"
   ]
  },
  {
   "cell_type": "markdown",
   "metadata": {},
   "source": [
    "## ** Mettre à jour l'indice de recolte"
   ]
  },
  {
   "cell_type": "code",
   "execution_count": 7,
   "metadata": {},
   "outputs": [],
   "source": [
    "HI = 1     # Indice de recolte de la culture"
   ]
  },
  {
   "cell_type": "markdown",
   "metadata": {},
   "source": [
    "## ***  Dossier de sortie pour la couche du rendement de la culture: Créer un ou connecter l'existant"
   ]
  },
  {
   "cell_type": "code",
   "execution_count": 8,
   "metadata": {},
   "outputs": [],
   "source": [
    "dir_proj = os.path.split(os.getcwd())[0]   \n",
    "dir_data = \"Data\"\n",
    "\n",
    "output_folderY = os.path.join(dir_proj, dir_data, \"4L2_Yield\") \n",
    "\n",
    "# si le repertoire et le dossier n'existent pas, en créer\n",
    "if not os.path.exists(output_folderY):\n",
    "    os.makedirs(output_folderY) \n",
    "output_folderY"
   ]
  },
  {
   "cell_type": "markdown",
   "metadata": {},
   "source": [
    "## **** Calculer le rendement de la culture"
   ]
  },
  {
   "cell_type": "code",
   "execution_count": 9,
   "metadata": {
    "scrolled": false
   },
   "outputs": [],
   "source": [
    "# collecter les Geoinfo tels que la projection, les axes x et y\n",
    "in_fh = input_fhsAGBM[0]      \n",
    "driver, NDV, xsize, ysize, GeoT, Projection = gis.GetGeoInfo(in_fh)\n",
    "spatial_extent = (GeoT[0], GeoT[0] + GeoT[1] * xsize, GeoT[3] + GeoT[5] * ysize, GeoT[3])  # Obtenir l'étendue spatiale du raster\n",
    "\n",
    "for in_fhAGBM in input_fhsAGBM:\n",
    "    AGBM      = gis.OpenAsArray(in_fhAGBM, nan_values=True)  \n",
    "    CropYield = HI*AGBM  \n",
    "        \n",
    "    # Identifier la date à partir du nom du fichier\n",
    "    date  = os.path.basename(in_fhAGBM).split('.')[0].replace('AGBM', '').replace('_', ' ')\n",
    "                             \n",
    "    # enregistrer dans le dossier de sortie\n",
    "    output_folder = output_folderY                 \n",
    "    basename      = os.path.basename(in_fhAGBM).replace('AGBM', 'Yield')                   \n",
    "    output_fn     = os.path.join(output_folder,basename)                   \n",
    "    gis.CreateGeoTiff(output_fn, CropYield, driver, NDV, xsize, ysize, GeoT, Projection) \n",
    "                             \n",
    "    # Tracer la carte du raster\n",
    "    seasonal = CropYield\n",
    "       \n",
    "    # calculer la moyenne, et l'écart type\n",
    "    print ('the mean & SD for ',date, '=', np.nanmean(seasonal).round(1),'&',np.nanstd(seasonal).round(1))\n",
    "    \n",
    "    plt.figure(figsize = (12,8))\n",
    "    plt.imshow(seasonal, cmap='RdYlGn', vmin=np.nanmin(seasonal), vmax=np.nanmax(seasonal), extent=spatial_extent)\n",
    "    plt.colorbar(shrink=0.75, label='Crop yield [ton/ha/season]')\n",
    "    plt.xlabel('Longitude ($^{\\circ}$ East)', fontsize=12)  # ajouter les titres des axes\n",
    "    plt.ylabel('Latitude ($^{\\circ}$ North)', fontsize=12)\n",
    "    plt.title('Crop yield [ton/ha/season] ' + date)\n",
    "    plt.clim()\n",
    "    plt.show ()\n",
    "    ;                             "
   ]
  },
  {
   "cell_type": "markdown",
   "metadata": {},
   "source": [
    "## Etape 4c - Calculer la productivité de l'eau (PE)"
   ]
  },
  {
   "cell_type": "markdown",
   "metadata": {},
   "source": [
    "## i) Calculer la productivité en biomasse de l'eau \n",
    "$PE Biomasse= \\frac{Biomasse}{ET_a}$"
   ]
  },
  {
   "cell_type": "markdown",
   "metadata": {},
   "source": [
    "## * Importer les données raster d'entrée"
   ]
  },
  {
   "cell_type": "code",
   "execution_count": 10,
   "metadata": {},
   "outputs": [],
   "source": [
    "dir_proj = os.path.split(os.getcwd())[0]  \n",
    "dir_data = \"Data\"\n",
    "\n",
    "input_folder1  = os.path.join(dir_proj, dir_data, \"2L2_AETI_season\") \n",
    "input_fhsET = glob.glob(input_folder1 + '\\*.tif')\n",
    "input_folder2  = os.path.join(dir_proj, dir_data, \"4L2_Biomass\") \n",
    "input_fhsAGBM = glob.glob(input_folder2 + '\\*.tif')\n",
    "input_fhsET[0], input_fhsAGBM[0]"
   ]
  },
  {
   "cell_type": "markdown",
   "metadata": {},
   "source": [
    "## ** Dossier de sortie pour la couche de la PEb: Créer un ou connecter l'existant"
   ]
  },
  {
   "cell_type": "code",
   "execution_count": 11,
   "metadata": {},
   "outputs": [],
   "source": [
    "dir_proj = os.path.split(os.getcwd())[0]   \n",
    "dir_data = \"Data\"\n",
    "\n",
    "output_folderWPb = os.path.join(dir_proj, dir_data, \"4L2_WPb\") \n",
    "\n",
    "# si le repertoire et le dossier n'existent pas, en créer\n",
    "if not os.path.exists(output_folderWPb):\n",
    "    os.makedirs(output_folderWPb) \n",
    "output_folderWPb"
   ]
  },
  {
   "cell_type": "markdown",
   "metadata": {},
   "source": [
    "## **** Calculer la productivité en biomasse de l'eau (PEb)"
   ]
  },
  {
   "cell_type": "code",
   "execution_count": 12,
   "metadata": {
    "scrolled": false
   },
   "outputs": [],
   "source": [
    "# collecter les Geoinfo tels que la projection, les axes x et y\n",
    "in_fh = input_fhsET[0]\n",
    "driver, NDV, xsize, ysize, GeoT, Projection = gis.GetGeoInfo(in_fh)\n",
    "spatial_extent = (GeoT[0], GeoT[0] + GeoT[1] * xsize, GeoT[3] + GeoT[5] * ysize, GeoT[3])  # Obtenir l'étendue spatiale du raster\n",
    "\n",
    "## Calculer la PE\n",
    "for in_fhET, in_fhAGBM in zip(input_fhsET, input_fhsAGBM):\n",
    "    AETI = gis.OpenAsArray(in_fhET, nan_values=True) \n",
    "    AGBM = gis.OpenAsArray(in_fhAGBM, nan_values=True)\n",
    "    WPb  = AGBM/AETI*100\n",
    "    \n",
    "    # Identifier la date à partir du nom du fichier\n",
    "    date  = os.path.basename(in_fhET).split('.')[0].replace('AETI', '').replace('_', ' ')\n",
    "    \n",
    "    # enregistrer dans le dossier de sortie\n",
    "    output_folder = output_folderWPb\n",
    "    basename      = os.path.basename(in_fhET).replace('AETI', 'WPb')\n",
    "    output_fn     = os.path.join(output_folder, basename)\n",
    "    gis.CreateGeoTiff(output_fn, WPb, driver, NDV, xsize, ysize, GeoT, Projection) \n",
    "        \n",
    "    # Tracer la carte du raster\n",
    "    seasonal = WPb\n",
    "    \n",
    "    # calculer la moyenne, et l'écart type\n",
    "    print ('the mean & SD for ',date, '=', np.nanmean(seasonal).round(1),'&',np.nanstd(seasonal).round(1))\n",
    "    \n",
    "    plt.figure(figsize = (12,8))\n",
    "    plt.imshow(seasonal, cmap='RdYlGn', vmin=np.nanmin(seasonal), vmax=np.nanmax(seasonal), extent=spatial_extent)\n",
    "    plt.colorbar(shrink=0.75, label='WPb [kg/m3]')\n",
    "    plt.xlabel('Longitude ($^{\\circ}$ East)', fontsize=12)  # ajouter les titres des axes\n",
    "    plt.ylabel('Latitude ($^{\\circ}$ North)', fontsize=12)\n",
    "    plt.title('Biomass water productivity [kg/m3] ' + date)\n",
    "    plt.clim(2,6)\n",
    "    plt.show ()  \n",
    "    ;"
   ]
  },
  {
   "cell_type": "markdown",
   "metadata": {},
   "source": [
    "## ii) Calculer la productivité culturale de l'eau \n",
    "$PE culture = \\frac{Rendement de la culture}{ET_a}$"
   ]
  },
  {
   "cell_type": "markdown",
   "metadata": {},
   "source": [
    "## * Importer les données raster d'entrée"
   ]
  },
  {
   "cell_type": "code",
   "execution_count": 13,
   "metadata": {},
   "outputs": [],
   "source": [
    "dir_proj = os.path.split(os.getcwd())[0]  \n",
    "dir_data = \"Data\"\n",
    "\n",
    "input_folder1  = os.path.join(dir_proj, dir_data, \"2L2_AETI_season\") \n",
    "input_fhsET    = glob.glob(input_folder1 + '\\*.tif')\n",
    "input_folder2  = os.path.join(dir_proj, dir_data, \"4L2_Yield\") \n",
    "input_fhsY     = glob.glob(input_folder2 + '\\*.tif')\n",
    "input_fhsET[0], input_fhsY[0]"
   ]
  },
  {
   "cell_type": "markdown",
   "metadata": {},
   "source": [
    "## ** Dossier de sortie pour la couche de la PEr: Créer un ou connecter l'existant"
   ]
  },
  {
   "cell_type": "code",
   "execution_count": 14,
   "metadata": {},
   "outputs": [],
   "source": [
    "dir_proj = os.path.split(os.getcwd())[0]   \n",
    "dir_data = \"Data\"\n",
    "\n",
    "output_folderWPy = os.path.join(dir_proj, dir_data, \"4L2_WPy\") \n",
    "\n",
    "# si le repertoire et le dossier n'existent pas, en créer\n",
    "if not os.path.exists(output_folderWPy):\n",
    "    os.makedirs(output_folderWPy) \n",
    "output_folderWPy"
   ]
  },
  {
   "cell_type": "markdown",
   "metadata": {},
   "source": [
    "## **** Calculer la productivité culturale de l'eau (WPr)"
   ]
  },
  {
   "cell_type": "code",
   "execution_count": 15,
   "metadata": {
    "scrolled": false
   },
   "outputs": [],
   "source": [
    "# collecter les Geoinfo tels que la projection, les axes x et y\n",
    "in_fh = input_fhsET[0]\n",
    "driver, NDV, xsize, ysize, GeoT, Projection = gis.GetGeoInfo(in_fh)\n",
    "spatial_extent = (GeoT[0], GeoT[0] + GeoT[1] * xsize, GeoT[3] + GeoT[5] * ysize, GeoT[3])  # Obtenir l'étendue spatiale du raster\n",
    "\n",
    "## Calculer la PE\n",
    "for in_fhET, in_fhY in zip(input_fhsET, input_fhsY):\n",
    "    AETI  = gis.OpenAsArray(in_fhET, nan_values=True) \n",
    "    Yield = gis.OpenAsArray(in_fhY, nan_values=True)\n",
    "    WPy   = Yield/AETI*100\n",
    "\n",
    "    # Identifier la date à partir du nom du fichier\n",
    "    date  = os.path.basename(in_fhET).split('.')[0].replace('AETI', '').replace('_', ' ')\n",
    "\n",
    "    # enregistrer dans le dossier de sortie\n",
    "    output_folder = output_folderWPy\n",
    "    basename      = os.path.basename(in_fhET).replace('AETI', 'WPy')\n",
    "    output_fn     = os.path.join(output_folder, basename)\n",
    "    gis.CreateGeoTiff(output_fn, WPy, driver, NDV, xsize, ysize, GeoT, Projection) \n",
    "\n",
    "    # Tracer la carte du raster\n",
    "    seasonal = WPy\n",
    "    \n",
    "    # calculer la moyenne, et l'écart type\n",
    "    print ('the mean & SD for ',date, '=', np.nanmean(seasonal).round(1),'&',np.nanstd(seasonal).round(1))\n",
    "\n",
    "    plt.figure(figsize = (12,8))\n",
    "    plt.imshow(seasonal, cmap='RdYlGn', vmin=np.nanmin(seasonal), vmax=np.nanmax(seasonal), extent=spatial_extent)\n",
    "    plt.colorbar(shrink=0.75, label='Crop water productivity [kg/m3]')\n",
    "    plt.xlabel('Longitude ($^{\\circ}$ East)', fontsize=12)  # ajouter les titres des axes\n",
    "    plt.ylabel('Latitude ($^{\\circ}$ North)', fontsize=12)\n",
    "    plt.title('Crop water productivity [kg/m3] ' + date)\n",
    "    plt.clim(2,6)\n",
    "    plt.show ()   \n",
    "    ;"
   ]
  }
 ],
 "metadata": {
  "kernelspec": {
   "display_name": "Python 3",
   "language": "python",
   "name": "python3"
  },
  "language_info": {
   "codemirror_mode": {
    "name": "ipython",
    "version": 3
   },
   "file_extension": ".py",
   "mimetype": "text/x-python",
   "name": "python",
   "nbconvert_exporter": "python",
   "pygments_lexer": "ipython3",
   "version": "3.8.3"
  }
 },
 "nbformat": 4,
 "nbformat_minor": 2
}
