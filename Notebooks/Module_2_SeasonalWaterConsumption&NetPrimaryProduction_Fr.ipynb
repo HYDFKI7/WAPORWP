{
 "cells": [
  {
   "cell_type": "markdown",
   "metadata": {},
   "source": [
    "\n",
    "# Module 2 - In this jupyter notebook, the seasonal T, ET, RET, NPP are calculated \n",
    "\n",
    "* Etape 2a - Réglage: Importer les modules/librairies, inportet les données, créer le dossier de sortie\n",
    "* Etape 2b - Définition des fonctions \n",
    "* Etape 2c - Calculer la T, ET, ET de Référence (RET), ETp, NPP (Production primaire nette)\n",
    "\n",
    "**=====================================================================================================================**\n",
    "\n",
    "![title](img/Fig2_1.png)\n",
    "\n",
    "**=====================================================================================================================**"
   ]
  },
  {
   "cell_type": "markdown",
   "metadata": {},
   "source": [
    "## Etape 2a - Reglage"
   ]
  },
  {
   "cell_type": "markdown",
   "metadata": {},
   "source": [
    "## i) Importer les modules/librairies"
   ]
  },
  {
   "cell_type": "code",
   "execution_count": 1,
   "metadata": {},
   "outputs": [],
   "source": [
    "import os                                 # module d'interaction avec le système d'exploitation\n",
    "import sys\n",
    "import glob                               # utilisé pour retrouver des fichiers/noms de chemin correspondant à un shéma donné\n",
    "import re                                 # le module re sub()  peut être utilisé pour remplacer des sous-chaines de caractères\n",
    "\n",
    "import pandas as pd                       # pour stocker et manipuler des données tabulaires dans des lignes d'observation et des colonnes de variables\n",
    "import numpy as np                        # Signifie 'Numerical Python' c'est une librairie de python utilisée pour les calculs scientifiques avec des matrices\n",
    "import calendar\n",
    "import datetime\n",
    "from matplotlib import pyplot as plt      # est une librairie de tracage de graphiques 2D dans python \n",
    "\n",
    "# Changer le reperoire au lieu ou les modules sont enregistrés\n",
    "os.chdir(os.path.join(os.path.split(os.getcwd())[0], \"Modules\"))\n",
    "from GIS_functions import GIS_function as gis"
   ]
  },
  {
   "cell_type": "markdown",
   "metadata": {},
   "source": [
    "## ii) Importer les données d'entrée:\n",
    "* Données de WaPOR (T, AETI-ETRI, REF, NPP), \n",
    "* Dates correspondant à la couche raster et \n",
    "* Début et fin de la saison de culture et le coefficient culture (Kc) de la culture"
   ]
  },
  {
   "cell_type": "markdown",
   "metadata": {},
   "source": [
    "## * Importer les données raster (WaPOR)"
   ]
  },
  {
   "cell_type": "code",
   "execution_count": 2,
   "metadata": {},
   "outputs": [],
   "source": [
    "dir_proj = os.path.split(os.getcwd())[0]  \n",
    "dir_data = \"Data\"\n",
    "\n",
    "# transpiration, évapotranspiration & interception and évapotranspiration de référence\n",
    "input_folderT = os.path.join(dir_proj, dir_data, \"1_L2_T_filtered\") \n",
    "input_fhsT = glob.glob(input_folderT + '\\*.tif')  # glob.glob retourne la liste des fichiers avec leur chemins au complet\n",
    "\n",
    "input_folderET = os.path.join(dir_proj, dir_data, \"1_L2_AETI_filtered\") \n",
    "input_fhsET = glob.glob(input_folderET + '\\*.tif')   \n",
    "\n",
    "input_folderRET = os.path.join(dir_proj, dir_data, \"1_L1_RET_filtered\") \n",
    "input_fhsRET = glob.glob(input_folderRET + '\\*.tif')\n",
    "\n",
    "input_folderNPP = os.path.join(dir_proj, dir_data, \"1_L2_NPP_filtered\") \n",
    "input_fhsNPP = glob.glob(input_folderNPP + '\\*.tif')"
   ]
  },
  {
   "cell_type": "markdown",
   "metadata": {},
   "source": [
    "## ** Importer les dates correspondant aux couches raster de WaPOR (cube code)\n",
    "\n",
    "![title](img/Fig2_2.jpg), ![title](img/Fig2_3.png)\n",
    "\n",
    "* Exécuter le cellule suivante active les module de WaPOR qui necessitent la connexion internet et prend du temps pour télécharger le catalogue \n",
    "* <span style='background :lightgreen' > **exécuter la cellule un seule fois, si la dernière date dans 'time_range' est mise à jour.**\n",
    "* <span style='background :pink' > En exécutant cette section pour la première fois, l'info du catalogue est enregistrée dand le repertoire de travail dans un fichier excel (e.g. df_availET.xlsx).\n",
    "* <span style='background :pink' > En exécutant ce notebook pour la seconde fois vous devez sauter cette cellule, mais exécuter la prochaine(# lire les df_avial dans le fichier excel déjà enregistré sous Data) "
   ]
  },
  {
   "cell_type": "code",
   "execution_count": 3,
   "metadata": {},
   "outputs": [],
   "source": [
    "import os \n",
    "os.chdir(os.path.join(os.path.split(os.getcwd())[0], \"Modules\"))\n",
    "import WaPOR                                # l'API pour interagir avec le portail de WaPOR\n",
    "WaPOR.API.version = 2\n",
    "\n",
    "# Lire l'info du cube (dataframe-trame de données) à partir du catalogue \n",
    "cube_codeT   = 'L2_T_D' \n",
    "cube_codeET  = 'L2_AETI_D' \n",
    "cube_codeRET = 'L1_RET_D' \n",
    "cube_codeNPP = 'L2_NPP_D' \n",
    "\n",
    "time_range   = '2009-01-01,2019-12-31'\n",
    "\n",
    "df_availT    = WaPOR.API.getAvailData(cube_codeT,   time_range)\n",
    "df_availET   = WaPOR.API.getAvailData(cube_codeET,  time_range)\n",
    "df_availRET  = WaPOR.API.getAvailData(cube_codeRET, time_range)\n",
    "df_availNPP  = WaPOR.API.getAvailData(cube_codeNPP, time_range)\n",
    "\n",
    "# Enregistrer la trame de données dans excel pour y eccéder hors connexion\n",
    "output_folder = os.path.join(os.path.split(os.getcwd())[0], \"Data\") \n",
    "\n",
    "df_availT.to_excel(os.path.join(output_folder,   'df_availT.xlsx'))\n",
    "df_availET.to_excel(os.path.join(output_folder,  'df_availET.xlsx'))\n",
    "df_availRET.to_excel(os.path.join(output_folder, 'df_availRET.xlsx'))\n",
    "df_availNPP.to_excel(os.path.join(output_folder, 'df_availNPP.xlsx'))\n",
    "\n",
    "# Obtenir votre clé peronnelle d'API de WaPOR en vous enrégistrant en haut à droite de la page accessible ici: wapor.apps.fao.org/home/1"
   ]
  },
  {
   "cell_type": "code",
   "execution_count": 4,
   "metadata": {},
   "outputs": [],
   "source": [
    "# lire les df_avial à partir du fichier excel enregistré \n",
    "\n",
    "time_range  = '2009-01-01,2019-12-31'\n",
    "\n",
    "df_availT   = pd.read_excel('../data/df_availT.xlsx')\n",
    "df_availET  = pd.read_excel('../data/df_availET.xlsx')\n",
    "df_availRET = pd.read_excel('../data/df_availRET.xlsx')\n",
    "df_availNPP = pd.read_excel('../data/df_availNPP.xlsx')"
   ]
  },
  {
   "cell_type": "markdown",
   "metadata": {},
   "source": [
    "## *** Definir et importer le Début de la Saison de Culture (SOS) et la Fin de la Saison de Culture (EOS)\n",
    "* Editer le début et la fin des saisons de culture **dans le fichier df_SOsEos.xlsx situé dans le dossier data**\n",
    "* Vous pouvez ajouter ou supprimer des lignes en fonction du nombre de saisons "
   ]
  },
  {
   "cell_type": "code",
   "execution_count": 5,
   "metadata": {},
   "outputs": [],
   "source": [
    "df_dates = pd.read_excel('../data/df_SosEos.xlsx')\n",
    "df_dates"
   ]
  },
  {
   "cell_type": "markdown",
   "metadata": {},
   "source": [
    "## **** Definir et importer le Kc par mois\n",
    "* Editer **months** et la valeur de **Kc** correspondant dans l'ordre du début de la saison culturale (pahse initiale)  à la fin de saison culturale  (dernière phase de la saison) **dans le fichier df_Kc.xlsx situé dans le dossier data**\n",
    "* Les lignes doivent être pour les mois se situant à l'intérieur de la durée de la saison culturale \n",
    "* La figure ci-dessous montre la courbe de Kc de la canne à sucre, donnée en gise d'exemple\n",
    "![title](img/Fig3_2.PNG)"
   ]
  },
  {
   "cell_type": "code",
   "execution_count": 6,
   "metadata": {},
   "outputs": [],
   "source": [
    "df_kc = pd.read_excel('../data/df_Kc.xlsx')\n",
    "df_kc "
   ]
  },
  {
   "cell_type": "markdown",
   "metadata": {},
   "source": [
    "## iii) Dossier de sortie: En créer un ou connecter à l'existant"
   ]
  },
  {
   "cell_type": "code",
   "execution_count": 7,
   "metadata": {},
   "outputs": [],
   "source": [
    "# le repertoire du dossier de sortie\n",
    "dir_proj = os.path.split(os.getcwd())[0]  \n",
    "dir_data = \"Data\"\n",
    "output_folderT           = os.path.join(dir_proj, dir_data, \"2L2_T_season\") \n",
    "output_folderET          = os.path.join(dir_proj, dir_data, \"2L2_AETI_season\") \n",
    "output_folderRET         = os.path.join(dir_proj, dir_data, \"2L1_RET_season\") \n",
    "output_folderRET_month   = os.path.join(dir_proj, dir_data, \"2L1_RET_month\")    \n",
    "output_folderETp         = os.path.join(dir_proj, dir_data, \"2L1_ETp_season\")    #ETp (= ETc) =Kc*REF\n",
    "output_folderNPP         = os.path.join(dir_proj, dir_data, \"2L2_NPP_season\") \n",
    "\n",
    "# En créer un, si le dossier n'existe pas\n",
    "if not os.path.exists(output_folderT):\n",
    "    os.makedirs(output_folderT) \n",
    "if not os.path.exists(output_folderET):\n",
    "    os.makedirs(output_folderET) \n",
    "if not os.path.exists(output_folderRET):\n",
    "    os.makedirs(output_folderRET)  \n",
    "if not os.path.exists(output_folderRET_month):\n",
    "    os.makedirs(output_folderRET_month)\n",
    "if not os.path.exists(output_folderETp):\n",
    "    os.makedirs(output_folderETp) \n",
    "if not os.path.exists(output_folderNPP):\n",
    "    os.makedirs(output_folderNPP) "
   ]
  },
  {
   "cell_type": "markdown",
   "metadata": {},
   "source": [
    "## Etape 2b - Definir la fonction - la fonction additionne les rasters entre deux dates"
   ]
  },
  {
   "cell_type": "code",
   "execution_count": 8,
   "metadata": {},
   "outputs": [],
   "source": [
    "# summation des rasters entre deux dates\n",
    "def SumSeason(input_fhs, saveSum, sowing_date, harvesting_date, df_avail):\n",
    "    \"\"\"\n",
    "    Add raster files (input_fhs) between sowing_date and harvesting_date.\n",
    "\n",
    "    IHE Delft 2019\n",
    "    Authors: a.chukalla@un-ihe.org\n",
    "    @author: Abebe Chukalla\n",
    "\n",
    "    Parameters\n",
    "    ----------\n",
    "    input_fhs : raster file\n",
    "        Files to be added.\n",
    "    saveSum : folder name\n",
    "        Folder name where the sum to be saved.\n",
    "    sowing_date : date in yyyy-mm-dd format\n",
    "        Starting date of crop growth.\n",
    "    harvesting_date : date in yyyy-mm-dd format\n",
    "        Harvesting date of crop.\n",
    "    df_avail : cube_code of the raster\n",
    "        Helps to read the date of each raster file.\n",
    "        \n",
    "    Returns\n",
    "    -------\n",
    "    Sums: array\n",
    "        Seasonal, sum of the raster files.\n",
    "    \"\"\"\n",
    "    period_dates = pd.date_range(sowing_date, harvesting_date, freq='D')  # generer les dates b/n montrant les dates de semis et récolte\n",
    "    period_fhs   = []\n",
    "\n",
    "    # collecter les rasters s'ils sont entre la date de semis et de récolte\n",
    "    for in_fh in input_fhs:\n",
    "        # obtenir le id du raster à partir du nom du fichier\n",
    "        raster_id = os.path.split(in_fh)[-1].split('.')[0]               \n",
    "        # obtenir l'infor du raster en utilisant le le id du raster\n",
    "        raster_info = df_avail.loc[df_avail['raster_id']==raster_id]      # le time_code (code_temps) correspondant à l'id du raster\n",
    "        # obtenir la date de début et fin du raster\n",
    "        raster_startdate = raster_info['time_code'].iloc[0].split(',')[0] \n",
    "        raster_startdate = re.sub(r\"[[)]\", \"\", raster_startdate)          \n",
    "        raster_enddate = raster_info['time_code'].iloc[0].split(',')[-1]  \n",
    "        raster_enddate = re.sub(r\"[[)]\", \"\", raster_enddate)               \n",
    "        # vérifier si le raster appartien à la periode\n",
    "        if ((raster_startdate in period_dates) or (raster_enddate in period_dates)):\n",
    "            period_fhs.append(in_fh)\n",
    "\n",
    "    # Ajouter les couches entre les date de semis et de recolte\n",
    "    period_fhs\n",
    "    period_fh = period_fhs[0]\n",
    "    Sums = 0\n",
    "    for period_fh in period_fhs:\n",
    "        Sum = gis.OpenAsArray(period_fh, nan_values=True)\n",
    "        Sums += Sum\n",
    "           \n",
    "    # enregistrer la matrice au format raster, le renommer avec l'id du raster et la date de semis et de recolte\n",
    "    out_fh = os.path.join(saveSum, raster_id.split('_')[1] + '_' + str(sowing_date) + '_to_' + str(harvesting_date) + '.tif')        \n",
    "    gis.CreateGeoTiff(out_fh, Sums, driver, NDV, xsize, ysize, GeoT, Projection)  # enregistrer la matrice 'Sums' en tant que raster\n",
    "        \n",
    "    return Sums  "
   ]
  },
  {
   "cell_type": "markdown",
   "metadata": {},
   "source": [
    "## Etape 2c - Calculer la T, ET, RET, ETp, NPP saisonnières"
   ]
  },
  {
   "cell_type": "markdown",
   "metadata": {},
   "source": [
    "## i) Calculer la transpiration (T) saisonnière"
   ]
  },
  {
   "cell_type": "code",
   "execution_count": 9,
   "metadata": {
    "scrolled": false
   },
   "outputs": [],
   "source": [
    "# collecter les Geoinfo tels que la projection, les axes x et y\n",
    "in_fh = input_fhsT[0]  \n",
    "\n",
    "driver, NDV, xsize, ysize, GeoT, Projection = gis.GetGeoInfo(in_fh)\n",
    "spatial_extent = (GeoT[0], GeoT[0] + GeoT[1] * xsize, GeoT[3] + GeoT[5] * ysize, GeoT[3])  # Obtenir l'étendue spatiale du raster\n",
    "\n",
    "length = len(df_dates)  # durée de la saison\n",
    "\n",
    "i = 0\n",
    "while i < length:  \n",
    "    # calculer la valeur saisonnière et l'enrégistrer dans le dossier de sortie (output_folder)\n",
    "    seasonal = SumSeason(input_fhsT, output_folderT, df_dates.SOS[i].date(), df_dates.EOS[i].date(), df_availT)\n",
    "   \n",
    "    # calculer la moyenne et l'écart type\n",
    "    print ('the mean & SD for ',str(df_dates.SOS[i].date()) + '/' + str(df_dates.EOS[i].date()), '=', np.nanmean(seasonal).round(1),'&',np.nanstd(seasonal).round(1))\n",
    "\n",
    "    # tracer la carte raster\n",
    "    plt.figure(figsize = (12,8))\n",
    "    plt.imshow(seasonal, cmap='jet_r', vmin=np.nanmin(seasonal), vmax=np.nanmax(seasonal), extent=spatial_extent)\n",
    "    plt.colorbar(shrink=0.75, label='T [mm/season]')\n",
    "    plt.xlabel('Longitude ($^{\\circ}$ East)', fontsize=14)  # ajouter les titres des axes\n",
    "    plt.ylabel('Latitude ($^{\\circ}$ North)', fontsize=14)\n",
    "    plt.title('Transpiration [mm/season] ' + str(df_dates.SOS[i].date()) + '/' + str(df_dates.EOS[i].date()), fontsize=16)\n",
    "    plt.clim(0,1500)\n",
    "    plt.show ()\n",
    "    \n",
    "    i += 1\n",
    "    ;"
   ]
  },
  {
   "cell_type": "markdown",
   "metadata": {},
   "source": [
    "## ii) Calculer l'evapotratranspiration saisonnière"
   ]
  },
  {
   "cell_type": "code",
   "execution_count": 10,
   "metadata": {
    "scrolled": false
   },
   "outputs": [],
   "source": [
    "# collecter les Geoinfo tels que la projection, les axes x et y\n",
    "in_fh = input_fhsET[0]    \n",
    "\n",
    "driver, NDV, xsize, ysize, GeoT, Projection = gis.GetGeoInfo(in_fh)\n",
    "spatial_extent = (GeoT[0], GeoT[0] + GeoT[1] * xsize, GeoT[3] + GeoT[5] * ysize, GeoT[3])  # Obtenir l'étendue spatiale du raster\n",
    "\n",
    "length = len(df_dates)  # durée de la saison\n",
    "                \n",
    "i = 0\n",
    "while i < length:    \n",
    "    # calculer la valeur saisonnière et l'enrégistrer dans le dossier de sortie (output_folder)\n",
    "    seasonal = SumSeason(input_fhsET, output_folderET, df_dates.SOS[i].date(), df_dates.EOS[i].date(), df_availET)\n",
    "    \n",
    "    # calculer la moyenne et l'écart type\n",
    "    print ('the mean & SD for ',str(df_dates.SOS[i].date()) + '/' + str(df_dates.EOS[i].date()), '=', np.nanmean(seasonal).round(1),'&',np.nanstd(seasonal).round(1))\n",
    "\n",
    "    # tracer la carte raster\n",
    "    plt.figure(figsize = (12,8))\n",
    "    plt.imshow(seasonal, cmap='jet_r', vmin=np.nanmin(seasonal), vmax=np.nanmax(seasonal), extent=spatial_extent)\n",
    "    plt.colorbar(shrink=0.75, label='ETa [mm/season]')\n",
    "    plt.xlabel('Longitude ($^{\\circ}$ East)', fontsize=14)  # ajouter les titres des axes\n",
    "    plt.ylabel('Latitude ($^{\\circ}$ North)', fontsize=14)\n",
    "    plt.title('Actual evapotranspiration [mm/season] ' + str(df_dates.SOS[i].date()) + '/' + str(df_dates.EOS[i].date()), fontsize=16)\n",
    "    plt.clim(0,1600)\n",
    "    plt.show()\n",
    "\n",
    "    i += 1\n",
    "    ;"
   ]
  },
  {
   "cell_type": "markdown",
   "metadata": {},
   "source": [
    "## iii) Calculer l'Evapotranspiration de référence saisonnière (RET)"
   ]
  },
  {
   "cell_type": "code",
   "execution_count": 11,
   "metadata": {
    "scrolled": false
   },
   "outputs": [],
   "source": [
    "# collecter les Geoinfo tels que la projection, les axes x et y\n",
    "in_fh = input_fhsRET[0]\n",
    "driver, NDV, xsize, ysize, GeoT, Projection = gis.GetGeoInfo(in_fh)\n",
    "spatial_extent = (GeoT[0], GeoT[0] + GeoT[1] * xsize, GeoT[3] + GeoT[5] * ysize, GeoT[3])  # Obtenir l'étendue spatiale du raster\n",
    "\n",
    "length = len(df_dates)  # durée de la saison\n",
    "\n",
    "i = 0\n",
    "while i < length:    \n",
    "    # calculer la valeur saisonnière et l'enrégistrer dans le dossier de sortie (output_folder)\n",
    "    seasonal = SumSeason(input_fhsRET, output_folderRET, df_dates.SOS[i].date(), df_dates.EOS[i].date(), df_availRET)\n",
    "\n",
    "    # calculer la moyenne et l'écart type\n",
    "    print ('the mean & SD for ',str(df_dates.SOS[i].date()) + '/' + str(df_dates.EOS[i].date()), '=', np.nanmean(seasonal).round(1),'&',np.nanstd(seasonal).round(1))\n",
    "    \n",
    "    # tracer la carte raster\n",
    "    plt.figure(figsize = (12,8))\n",
    "    plt.imshow(seasonal, cmap='jet_r', vmin=np.nanmin(seasonal), vmax=np.nanmax(seasonal), extent=spatial_extent)\n",
    "    plt.colorbar(shrink=0.75, label='REF [mm/season]')\n",
    "    plt.xlabel('Longitude ($^{\\circ}$ East)', fontsize=14)  # ajouter les titres des axes\n",
    "    plt.ylabel('Latitude ($^{\\circ}$ North)', fontsize=14)\n",
    "    plt.title('Reference evapotranspiration [mm/season] ' + str(df_dates.SOS[i].date()) + '/' + str(df_dates.EOS[i].date()), fontsize=16)\n",
    "    plt.show ()\n",
    "\n",
    "    i += 1\n",
    "    ;"
   ]
  },
  {
   "cell_type": "markdown",
   "metadata": {},
   "source": [
    "## iv) Calculer ETp(ETc) saisonnière = Kc*RET"
   ]
  },
  {
   "cell_type": "code",
   "execution_count": 12,
   "metadata": {
    "scrolled": false
   },
   "outputs": [],
   "source": [
    "# collecter les Geoinfo tels que la projection, les axes x et y\n",
    "in_fh = input_fhsRET[0]\n",
    "driver, NDV, xsize, ysize, GeoT, Projection = gis.GetGeoInfo(in_fh)\n",
    "spatial_extent = (GeoT[0], GeoT[0] + GeoT[1] * xsize, GeoT[3] + GeoT[5] * ysize, GeoT[3])  # Obtenir l'étendue spatiale du raster\n",
    "\n",
    "length = len(df_dates)  # durée de la saison\n",
    "\n",
    "i = 0\n",
    "while i < length:\n",
    "    date_s  = df_dates.SOS[i].date()   # le début de la saison culturale (SOS)\n",
    "    #ETc_total[i] = 0\n",
    "    print ('Monthly ETo, ETc in mm/month and Kc[-] in ', date_s.year)\n",
    "    seasonal = 0\n",
    "    while date_s < df_dates.EOS[i].date():    # Itérer sur la gamme de SOS et EOS de la saison active 'i' \n",
    "        # Increment by a month\n",
    "        days    = calendar.monthrange(date_s.year,date_s.month)[1] # Nombre de jours dans le mois actif\n",
    "        date_e  = date_s+datetime.timedelta(days=days-1)           # Date de fin du mois actif\n",
    "        \n",
    "        m = date_s.strftime('%B')         # Identifier le nom du mois actif\n",
    "        kc_m =df_kc.loc[df_kc[\"Months\"] == m, 'Kc'].item()  # identifier la valeur kc corrrespondant au mois\n",
    "           \n",
    "        # calculer la valeur moyenne et enregistrer dans output_folder (dossier de sortie)\n",
    "        ET0 = SumSeason(input_fhsRET, output_folderRET_month, date_s, date_e, df_availRET) # ajout de ET de référence dans le mois actif\n",
    "        ETc = kc_m*ET0    # calculer l'ETP mensuelle(ETc)\n",
    "\n",
    "        print (date_s.year, m, np.nanmean(ET0).round(1), np.nanmean(ETc).round(1), kc_m)\n",
    "        date_s  = date_e+datetime.timedelta(days=1)   # Premier jour du prochain mois\n",
    "        seasonal+= ETc\n",
    "    \n",
    "    # Enrgistrer la matrice saisonnière au format raster, la renommer avec le nom du raster, la date de semis et de recolte\n",
    "    out_fh = os.path.join(output_folderETp, 'ETc_' + str(df_dates.SOS[i].date()) + '_to_' + str(df_dates.EOS[i].date()) + '.tif')        \n",
    "    gis.CreateGeoTiff(out_fh, seasonal, driver, NDV, xsize, ysize, GeoT, Projection)  # enregistrer la matrice 'Sums' en tant que raster\n",
    "    print ('The mean seasonal ETc [mm] in ', date_s.year, ' is ', np.nanmean(seasonal).round(1))\n",
    "\n",
    "    # Tracer la carte du raster\n",
    "    plt.figure(figsize = (12,8))\n",
    "    plt.imshow(seasonal, cmap='jet_r', vmin=np.nanmin(seasonal), vmax=np.nanmax(seasonal), extent=spatial_extent)\n",
    "    plt.colorbar(shrink=0.75, label='ETc=Kc*ETo [mm/season]')\n",
    "    plt.xlabel('Longitude ($^{\\circ}$ East)', fontsize=12)  # ajouter les titres des axes\n",
    "    plt.ylabel('Latitude ($^{\\circ}$ North)', fontsize=12)\n",
    "    plt.title('ETc ' + str(df_dates.SOS[i].date()) + '/' + str(df_dates.EOS[i].date()), fontsize=12)\n",
    "    plt.clim()\n",
    "    plt.show ()\n",
    "\n",
    "    i += 1\n",
    "    ;"
   ]
  },
  {
   "cell_type": "markdown",
   "metadata": {},
   "source": [
    "## v) Calculer la Production Primaire Nette saisonnière (NPP)"
   ]
  },
  {
   "cell_type": "code",
   "execution_count": 13,
   "metadata": {
    "scrolled": false
   },
   "outputs": [],
   "source": [
    "# collecte des Geoinfo tels que la projection, les axes x et y\n",
    "in_fh = input_fhsNPP[0]\n",
    "\n",
    "driver, NDV, xsize, ysize, GeoT, Projection = gis.GetGeoInfo(in_fh)\n",
    "spatial_extent = (GeoT[0], GeoT[0] + GeoT[1] * xsize, GeoT[3] + GeoT[5] * ysize, GeoT[3])  # Obtenir l'étendue spatiale du raster\n",
    "\n",
    "length = len(df_dates)  # durée de la saison\n",
    "\n",
    "i = 0\n",
    "while i < length:\n",
    "    # calculer la valeur saisonnière et l'enrégistrer dans le dossier de sortie (output_folder)\n",
    "    seasonal = SumSeason(input_fhsNPP, output_folderNPP, df_dates.SOS[i].date(), df_dates.EOS[i].date(), df_availNPP)\n",
    "\n",
    "    # ccalculer la moyenne et l'écart type\n",
    "    print ('the mean & SD for ',str(df_dates.SOS[i].date()) + '/' + str(df_dates.EOS[i].date()), '=', np.nanmean(seasonal).round(1),'&',np.nanstd(seasonal).round(1))\n",
    "    \n",
    "    # Tracer la carte du raster\n",
    "    plt.figure(figsize = (12,8))\n",
    "    plt.imshow(seasonal, cmap='jet_r', vmin=np.nanmin(seasonal), vmax=np.nanmax(seasonal), extent=spatial_extent)\n",
    "    plt.colorbar(shrink=0.75, label='NPP [gC/m2/season]')\n",
    "    plt.xlabel('Longitude ($^{\\circ}$ East)', fontsize=14)  # add axes label\n",
    "    plt.ylabel('Latitude ($^{\\circ}$ North)', fontsize=14)\n",
    "    plt.title('Net primary production [gC/m2/season] ' + str(df_dates.SOS[i].date()) + '/' + str(df_dates.EOS[i].date()), fontsize=16)\n",
    "    plt.show ()\n",
    "    \n",
    "    i += 1 \n",
    "    ;"
   ]
  }
 ],
 "metadata": {
  "kernelspec": {
   "display_name": "Python 3",
   "language": "python",
   "name": "python3"
  },
  "language_info": {
   "codemirror_mode": {
    "name": "ipython",
    "version": 3
   },
   "file_extension": ".py",
   "mimetype": "text/x-python",
   "name": "python",
   "nbconvert_exporter": "python",
   "pygments_lexer": "ipython3",
   "version": "3.8.3"
  }
 },
 "nbformat": 4,
 "nbformat_minor": 2
}
