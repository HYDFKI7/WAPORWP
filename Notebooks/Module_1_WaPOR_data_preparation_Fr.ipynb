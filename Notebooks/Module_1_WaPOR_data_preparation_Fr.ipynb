{
 "cells": [
  {
   "cell_type": "markdown",
   "metadata": {},
   "source": [
    "# Module 1 - Dans ce notebook jupyter, du rééchantillonnage  et du masquage sont effectués afin de préparer les données pour des analyses ultérieures. \n",
    "* Etape 1a - Importer les modules/librairies\n",
    "* Etape 1b - Rééchantillonner les données \n",
    "* Etape 1c - Filtrer les zone non-cultivées \n",
    "\n",
    "**=====================================================================================================================**\n",
    "\n",
    "![title](img/Fig1_1.png)\n",
    "\n",
    "**=====================================================================================================================**"
   ]
  },
  {
   "cell_type": "markdown",
   "metadata": {
    "slideshow": {
     "slide_type": "skip"
    }
   },
   "source": [
    "## Etape 1a - Importer les modules/librairies"
   ]
  },
  {
   "cell_type": "code",
   "execution_count": 1,
   "metadata": {},
   "outputs": [],
   "source": [
    "import os                             # module d'interaction avec le système d'exploitation\n",
    "import glob                           # utilisé pour retrouver des fichiers/noms de chemin correspondant à un shéma donné\n",
    "import matplotlib.pyplot as plt       # Librairie de tracage de graphiques 2D dans python \n",
    "import numpy as np                    # Signifie 'Numerical Python' c'est une librairie de python utilisée pour les calculs scientifiques avec des matrices\n",
    "from osgeo import ogr, gdal\n",
    "import subprocess\n",
    "\n",
    "os.chdir(os.path.join(os.path.split(os.getcwd())[0], \"Modules\"))\n",
    "from GIS_functions import GIS_function as gis"
   ]
  },
  {
   "cell_type": "markdown",
   "metadata": {},
   "source": [
    "# Etape 1b - Rééchantilloner les données raster"
   ]
  },
  {
   "cell_type": "markdown",
   "metadata": {},
   "source": [
    "## i) Rééchantilloner l'ET de référence"
   ]
  },
  {
   "cell_type": "markdown",
   "metadata": {},
   "source": [
    "## * Importer les données d'entrée "
   ]
  },
  {
   "cell_type": "code",
   "execution_count": 2,
   "metadata": {},
   "outputs": [],
   "source": [
    "dir_proj = os.path.split(os.getcwd())[0] \n",
    "dir_data = \"Data\"\n",
    "    \n",
    "source_file   = os.path.join(dir_proj, dir_data,   \"WAPOR.v2_mm-dekad-1_L2_AETI_D\", \"L2_AETI_0901.tif\") # Lire l'info gdal du canevas d'un fichier raster  \n",
    "target_folder = os.path.join(dir_proj, dir_data,   \"WAPOR.v2_mm-dekad-1_L1_RET_D\")                      # donnée à rééchantillonner \n",
    "target_fhs    = glob.glob(target_folder + '\\*.tif')\n",
    "\n",
    "source_file, target_fhs"
   ]
  },
  {
   "cell_type": "markdown",
   "metadata": {},
   "source": [
    "## La taille et la forme des fichiers raster"
   ]
  },
  {
   "cell_type": "code",
   "execution_count": 3,
   "metadata": {},
   "outputs": [],
   "source": [
    "## La taille et la forme des fichiers raster\n",
    "template   = gis.OpenAsArray(source_file, nan_values=True) \n",
    "original   = gis.OpenAsArray(target_fhs[0], nan_values=True)\n",
    "\n",
    "print ('The size & shape of the template raster      =', template.size,  '&', template.shape)\n",
    "print ('The size & shape of the data to be resampled =', original.size,  '&', original.shape)"
   ]
  },
  {
   "cell_type": "markdown",
   "metadata": {},
   "source": [
    "## ** Créér ou connecter le dossier de sortie avec le repertoire"
   ]
  },
  {
   "cell_type": "code",
   "execution_count": 4,
   "metadata": {},
   "outputs": [],
   "source": [
    "dir_proj = os.path.split(os.getcwd())[0] \n",
    "dir_data = \"Data\"\n",
    "\n",
    "output_folder = os.path.join(dir_proj, dir_data, \"1_L1_RET_D_resampled\") \n",
    "\n",
    "## En créer un, si le dossier n'existe pas\n",
    "if not os.path.exists(output_folder):\n",
    "    os.makedirs(output_folder) \n",
    "    \n",
    "output_folder"
   ]
  },
  {
   "cell_type": "markdown",
   "metadata": {},
   "source": [
    "## *** Rééchantilloner les données raster"
   ]
  },
  {
   "cell_type": "code",
   "execution_count": 5,
   "metadata": {},
   "outputs": [],
   "source": [
    "Resample = gis.MatchProjResNDV (source_file, target_fhs, output_folder, resample = 'near', dtype = 'float32')"
   ]
  },
  {
   "cell_type": "code",
   "execution_count": 5,
   "metadata": {},
   "outputs": [],
   "source": [
    "## La taille et la forme des fichiers raster rééchantillonnés\n",
    "Resampled   = os.path.join(dir_proj, dir_data,   \"1_L1_RET_D_resampled\", \"L1_RET_0901.tif\") \n",
    "resampled   = gis.OpenAsArray(Resampled , nan_values=True)\n",
    "\n",
    "print ('The size & shape of the resampled data =', resampled.size,  '&', resampled.shape)"
   ]
  },
  {
   "cell_type": "markdown",
   "metadata": {},
   "source": [
    "## ii) Rééchantillonner les couches de Précipitation"
   ]
  },
  {
   "cell_type": "markdown",
   "metadata": {},
   "source": [
    "## * Importer les données d'entrée"
   ]
  },
  {
   "cell_type": "code",
   "execution_count": null,
   "metadata": {},
   "outputs": [],
   "source": [
    "dir_proj = os.path.split(os.getcwd())[0] \n",
    "dir_data = \"Data\"\n",
    "    \n",
    "source_file   = os.path.join(dir_proj, dir_data,   \"WAPOR.v2_mm-dekad-1_L2_AETI_D\", \"L2_AETI_0901.tif\") # Lire l'info gdal du canevas d'un fichier raster  \n",
    "target_folder = os.path.join(dir_proj, dir_data,   \"WAPOR.v2_mm-dekad-1_L1_PCP_D\")                      # données à rééchantillonner\n",
    "target_fhs    = glob.glob(target_folder + '\\*.tif')\n",
    "\n",
    "source_file, target_fhs"
   ]
  },
  {
   "cell_type": "markdown",
   "metadata": {},
   "source": [
    "## La taille et la forme des fichiers raster"
   ]
  },
  {
   "cell_type": "code",
   "execution_count": null,
   "metadata": {},
   "outputs": [],
   "source": [
    "## La taille et la forme des données raster\n",
    "template   = gis.OpenAsArray(source_file, nan_values=True) \n",
    "original   = gis.OpenAsArray(target_fhs[0], nan_values=True)\n",
    "\n",
    "print ('The size & shape of the template raster      =', template.size,  '&', template.shape)\n",
    "print ('The size & shape of the data to be resampled =', original.size,  '&', original.shape)"
   ]
  },
  {
   "cell_type": "markdown",
   "metadata": {},
   "source": [
    "## ** Créér ou connecter avec le dossier des données de sortie"
   ]
  },
  {
   "cell_type": "code",
   "execution_count": null,
   "metadata": {},
   "outputs": [],
   "source": [
    "dir_proj = os.path.split(os.getcwd())[0] \n",
    "dir_data = \"Data\"\n",
    "\n",
    "output_folder = os.path.join(dir_proj, dir_data, \"1_L1_PCP_D_resampled\") \n",
    "\n",
    "## En créer un, si le dossier n'existe pas\n",
    "if not os.path.exists(output_folder):\n",
    "    os.makedirs(output_folder) \n",
    "    \n",
    "output_folder"
   ]
  },
  {
   "cell_type": "markdown",
   "metadata": {},
   "source": [
    "## *** Rééchantilloner les données raster"
   ]
  },
  {
   "cell_type": "code",
   "execution_count": null,
   "metadata": {},
   "outputs": [],
   "source": [
    "Resample = gis.MatchProjResNDV (source_file, target_fhs, output_folder, resample = 'near', dtype = 'float32')"
   ]
  },
  {
   "cell_type": "code",
   "execution_count": null,
   "metadata": {},
   "outputs": [],
   "source": [
    "## La taille et la forme des fichiers raster rééchantillonnés\n",
    "Resampled   = os.path.join(dir_proj, dir_data,   \"1_L1_RET_D_resampled\", \"L1_RET_0901.tif\") \n",
    "resampled   = gis.OpenAsArray(Resampled , nan_values=True)\n",
    "\n",
    "print ('The size & shape of the resampled data =', resampled.size,  '&', resampled.shape)"
   ]
  },
  {
   "cell_type": "markdown",
   "metadata": {},
   "source": [
    "\n",
    "\n",
    "# Etape 1c - Filtrer les zones non cultivées en utilisant la carte d'occupation des terres et les limites du projet\n",
    "\n",
    "### Carte d'occupation des terres\n",
    "Dans la couche d'occupation des terres de WaPOR, la valeur de pixel **42** représents les terres agricoles irriguées (Voir https://wapor.apps.fao.org/catalog/2/L2_LCC_A). \n",
    "\n",
    "![title](img/Fig1_2.png)"
   ]
  },
  {
   "cell_type": "markdown",
   "metadata": {},
   "source": [
    "### Limites du projet  --- convertir un shapefile en raster"
   ]
  },
  {
   "cell_type": "code",
   "execution_count": 6,
   "metadata": {},
   "outputs": [],
   "source": [
    "# Lire les fichier shapefile et raster de référence\n",
    "dir_proj = os.path.split(os.getcwd())[0] \n",
    "dir_data = \"Data\"\n",
    "\n",
    "InputVector = r\"..\\Data\\1Boundary\\Shapefile\\Xinavane_1.shp\"             # Le shapefile du projet\n",
    "RefImage    = r\"..\\Data\\WAPOR.v2_mm-dekad-1_L2_AETI_D\\L2_AETI_0901.tif\" # Raster de rérérence pour fixer la taille des pixels \n",
    "OutputImage = r'..\\Data\\1Boundary\\mask_irrigation_types.tif'            # nommer le fichier raster de sorite 'mask_irrigation_types' et l'enregistrer dans DAta/1Boundary..\n",
    "burnVal     = 1                                                         #Valeur pour les pixels de l'image de sortie"
   ]
  },
  {
   "cell_type": "code",
   "execution_count": 7,
   "metadata": {},
   "outputs": [],
   "source": [
    "# Un code pour transformer un shapefile en raster en respectant la même projection et résolution de pixel qu'une image de référence.\n",
    "gdalformat = 'GTiff'\n",
    "datatype = gdal.GDT_Byte\n",
    "\n",
    "\n",
    "##########################################################\n",
    "# Obtenir l'info de la projection à partir de l'image de référence\n",
    "Image = gdal.Open(RefImage, gdal.GA_ReadOnly)\n",
    "\n",
    "# Ouvrir le Shapefile\n",
    "Shapefile = ogr.Open(InputVector)\n",
    "Shapefile_layer = Shapefile.GetLayer()\n",
    "\n",
    "# Transformer en raster\n",
    "print(\"Rasterising shapefile...\")\n",
    "Output = gdal.GetDriverByName(gdalformat).Create(OutputImage, Image.RasterXSize, Image.RasterYSize, 1, datatype, options=['COMPRESS=LZW'])\n",
    "Output.SetProjection(Image.GetProjectionRef())\n",
    "Output.SetGeoTransform(Image.GetGeoTransform()) \n",
    "\n",
    "# Ecrire les donnée à la bande 1\n",
    "Band = Output.GetRasterBand(1)\n",
    "Band.SetNoDataValue(0)\n",
    "gdal.RasterizeLayer(Output, [1], Shapefile_layer, burn_values=[burnVal])\n",
    "\n",
    "# Fermer les ensembles de données\n",
    "Band = None\n",
    "Output = None\n",
    "Image = None\n",
    "Shapefile = None\n",
    "\n",
    "# Construire les apperçus des images\n",
    "subprocess.call(\"gdaladdo --config COMPRESS_OVERVIEW DEFLATE \"+OutputImage+\" 2 4 8 16 32 64\", shell=True)\n",
    "print(\"Done.\")"
   ]
  },
  {
   "cell_type": "markdown",
   "metadata": {
    "scrolled": true
   },
   "source": [
    "## i) Importer les données d'entrée "
   ]
  },
  {
   "cell_type": "code",
   "execution_count": 10,
   "metadata": {},
   "outputs": [],
   "source": [
    "dir_proj = os.path.split(os.getcwd())[0]  \n",
    "dir_data = \"Data\"\n",
    "\n",
    "# transpiration, évapotranspiration & interception and évapotranspiration de référence\n",
    "input_folderT    = os.path.join(dir_proj, dir_data, \"WAPOR.v2_mm-dekad-1_L2_T_D\") \n",
    "input_fhsT       = glob.glob(input_folderT + '\\*.tif')  # glob.glob retourne la liste des fichiers avec leur chemins au complet\n",
    "\n",
    "input_folderAETI = os.path.join(dir_proj, dir_data, \"WAPOR.v2_mm-dekad-1_L2_AETI_D\") \n",
    "input_fhsAETI    = glob.glob(input_folderAETI + '\\*.tif')   \n",
    "\n",
    "input_folderRET  = os.path.join(dir_proj, dir_data, \"1_L1_RET_D_resampled\") \n",
    "input_fhsRET     = glob.glob(input_folderRET + '\\*.tif')\n",
    "\n",
    "input_folderNPP  = os.path.join(dir_proj, dir_data, \"WAPOR.v2_mm-dekad-1_L2_NPP_D\") \n",
    "input_fhsNPP     = glob.glob(input_folderNPP + '\\*.tif')\n",
    "\n",
    "# Masques: Couches d'occupation des terres et forme de ma zone du projet\n",
    "input_LCCfolder  = os.path.join(dir_proj, dir_data, \"WAPOR.v2_LCC_L2_LCC_A\") \n",
    "LCC_tifs         = glob.glob(input_LCCfolder + '\\*.tif')\n",
    "\n",
    "ProArea = gis.OpenAsArray(r'..\\Data\\1Boundary\\mask_irrigation_types.tif', nan_values=True)  # les limites (aire) de la zone du projet(tif)"
   ]
  },
  {
   "cell_type": "markdown",
   "metadata": {},
   "source": [
    "## ii) Dossier de sortie: En créer un ou connecter l'existant"
   ]
  },
  {
   "cell_type": "code",
   "execution_count": 8,
   "metadata": {},
   "outputs": [],
   "source": [
    "dir_proj = os.path.split(os.getcwd())[0] \n",
    "dir_data = \"Data\"\n",
    "\n",
    "output_folderT    = os.path.join(dir_proj, dir_data, \"1_L2_T_filtered\")\n",
    "output_folderAETI = os.path.join(dir_proj, dir_data, \"1_L2_AETI_filtered\")\n",
    "output_folderRET  = os.path.join(dir_proj, dir_data, \"1_L1_RET_filtered\")\n",
    "output_folderNPP  = os.path.join(dir_proj, dir_data, \"1_L2_NPP_filtered\")\n",
    " \n",
    "\n",
    "## En créer un, si le dossier n'existe pas\n",
    "if not os.path.exists(output_folderT):\n",
    "    os.makedirs(output_folderT) \n",
    "if not os.path.exists(output_folderAETI):\n",
    "    os.makedirs(output_folderAETI) \n",
    "if not os.path.exists(output_folderRET):\n",
    "    os.makedirs(output_folderRET) \n",
    "if not os.path.exists(output_folderNPP):\n",
    "    os.makedirs(output_folderNPP) \n",
    "    \n",
    "output_folderAETI, output_folderRET"
   ]
  },
  {
   "cell_type": "markdown",
   "metadata": {},
   "source": [
    "#### Tracer la zone du projet"
   ]
  },
  {
   "cell_type": "code",
   "execution_count": 9,
   "metadata": {},
   "outputs": [],
   "source": [
    "### Traver la zone du projet \n",
    "Projectboundary = ProArea\n",
    "\n",
    "# Tracer\n",
    "plt.figure(figsize = (12,6))\n",
    "plt.imshow(Projectboundary)                          \n",
    "plt.title('Project area')\n",
    "plt.show();"
   ]
  },
  {
   "cell_type": "markdown",
   "metadata": {},
   "source": [
    "#### Tracer la couche raster (avant de retirer aux zones non cultivées)"
   ]
  },
  {
   "cell_type": "code",
   "execution_count": 10,
   "metadata": {},
   "outputs": [],
   "source": [
    "input_fhsAETI[0]"
   ]
  },
  {
   "cell_type": "code",
   "execution_count": 11,
   "metadata": {
    "scrolled": false
   },
   "outputs": [],
   "source": [
    "# Tracer la couche de l'ET de référence \n",
    "AETI_tif = gis.OpenAsArray(input_fhsAETI[0],nan_values=True)\n",
    "\n",
    "plt.figure(figsize = (12,8))\n",
    "plt.imshow(AETI_tif, cmap='RdYlGn')\n",
    "plt.colorbar(shrink=0.75, label=' [mm/dekadal]')\n",
    "plt.title('Downloaded AETI layer')\n",
    "plt.show()"
   ]
  },
  {
   "cell_type": "markdown",
   "metadata": {},
   "source": [
    "#### Tracer la couche raster sur les terres cultivées irriguées (masquage des terres cultivées non irriguées)"
   ]
  },
  {
   "cell_type": "code",
   "execution_count": 12,
   "metadata": {},
   "outputs": [],
   "source": [
    "LCC_tifs[0]"
   ]
  },
  {
   "cell_type": "code",
   "execution_count": 13,
   "metadata": {
    "scrolled": false
   },
   "outputs": [],
   "source": [
    "# Masquer les terres cultivées non irriguées\n",
    "LCC       = gis.OpenAsArray(LCC_tifs[0],nan_values=True)  # carte d'occupation des terres\n",
    "AETI_crop = np.where((LCC==42), AETI_tif,np.nan)          # Montrer l'ETRI des terres cultivées irriguées, lesquelles on la valeur de pixel 42\n",
    "\n",
    "# Tracer l'ETRI des terres cultivées irriguées a\n",
    "plt.figure(figsize = (12,8))\n",
    "plt.imshow(AETI_crop, cmap='RdYlGn')    \n",
    "plt.colorbar(shrink=0.75, label=' [mm/dekadal]')                          \n",
    "plt.title('AETI of the irrigated cropped land')\n",
    "plt.show()"
   ]
  },
  {
   "cell_type": "markdown",
   "metadata": {},
   "source": [
    "#### Tracer la couche raster des terres cultivées irriguées dans les limites du périmètre"
   ]
  },
  {
   "cell_type": "code",
   "execution_count": 14,
   "metadata": {
    "scrolled": false
   },
   "outputs": [],
   "source": [
    "# Masquer les terres cultivées non irriguées et les zone hors des limites du périmètre\n",
    "AETI_boundary = np.where((LCC==42)& (ProArea==1),AETI_tif,np.nan) # Masquage des terres cultivées non irriguées et les zone hors des limites du la zone du projet\n",
    "\n",
    "# Plot\n",
    "plt.figure(figsize = (12,8))\n",
    "plt.imshow(AETI_boundary, cmap='RdYlGn')   \n",
    "plt.colorbar(shrink=0.75, label=' [mm/dekadal]')                          \n",
    "plt.title('AETI of the irrigated project')\n",
    "plt.show()"
   ]
  },
  {
   "cell_type": "markdown",
   "metadata": {},
   "source": [
    "## iii) Filtrer les terres non cultivées en utilisant la carte d'occupation des terres et les limites du projet"
   ]
  },
  {
   "cell_type": "markdown",
   "metadata": {},
   "source": [
    "* LCC     = par exemple # 42 est la classe d'occupation des terres sous gestion d'eau\n",
    "* ProArea = 1 la valeur du raster de la zone du projet au format tiff"
   ]
  },
  {
   "cell_type": "markdown",
   "metadata": {},
   "source": [
    "### Filtrer les couches de transpiration"
   ]
  },
  {
   "cell_type": "code",
   "execution_count": 15,
   "metadata": {},
   "outputs": [],
   "source": [
    "# collecter les Geoinfo tels que la projection, les axes x et y\n",
    "in_fh = input_fhsT[0]     \n",
    "driver, NDV, xsize, ysize, GeoT, Projection = gis.GetGeoInfo(in_fh)\n",
    "spatial_extent = (GeoT[0], GeoT[0] + GeoT[1] * xsize, GeoT[3] + GeoT[5] * ysize, GeoT[3])  # Obtenir l'étendue spatiale du raster\n",
    "\n",
    "for Tfh in input_fhsT: \n",
    "    for LCCfh in LCC_tifs:\n",
    "        T   = gis.OpenAsArray(Tfh,  nan_values=True)\n",
    "        LCC = gis.OpenAsArray(LCCfh, nan_values=True)\n",
    "        basename1  = os.path.basename(Tfh).split('_')[2].split('.')[0]    #L2_T_0901.tif, 0901.tif, 0901\n",
    "        basename1  = int(str(basename1)[:2])                              # 09\n",
    "\n",
    "        basename2  = os.path.basename(LCCfh).split('_')[2].split('.')[0]   #L2_LCC_09.tif, 09.tif, 09\n",
    "        \n",
    "        if basename1 == int(basename2):     #Compare l'année de la couche d'occupation des terres et la couche raster (T)\n",
    "            \n",
    "            # Masquage des terres cultivées non irriguées et les zone hors des limites du la zone du projet\n",
    "            T   = np.where((LCC==42)& (ProArea==1),T,np.nan) \n",
    "            \n",
    "            # mettre à jour le nom du fichier, et l'enrégistrer dans le dossier de sortie\n",
    "            basename  = os.path.basename(Tfh)\n",
    "            output_fn = os.path.join(output_folderT, basename)\n",
    "            gis.CreateGeoTiff(output_fn, T, driver, NDV, xsize, ysize, GeoT, Projection) "
   ]
  },
  {
   "cell_type": "markdown",
   "metadata": {},
   "source": [
    "### Filtrer les couches d'évapotranspiration"
   ]
  },
  {
   "cell_type": "code",
   "execution_count": 16,
   "metadata": {},
   "outputs": [],
   "source": [
    "# collecter les Geoinfo tels que la projection, les axes x et y\n",
    "in_fh = input_fhsAETI[0]   \n",
    "driver, NDV, xsize, ysize, GeoT, Projection = gis.GetGeoInfo(in_fh)\n",
    "spatial_extent = (GeoT[0], GeoT[0] + GeoT[1] * xsize, GeoT[3] + GeoT[5] * ysize, GeoT[3])  # Obtenir l'étendue spatiale du raster\n",
    "\n",
    "for AETIfh in input_fhsAETI:\n",
    "    for LCCfh in LCC_tifs:\n",
    "        AETI = gis.OpenAsArray(AETIfh,  nan_values=True)\n",
    "        LCC = gis.OpenAsArray(LCCfh, nan_values=True)\n",
    "        basename1  = os.path.basename(AETIfh).split('_')[2].split('.')[0]   \n",
    "        basename1  = int(str(basename1)[:2])                             \n",
    "\n",
    "        basename2  = os.path.basename(LCCfh).split('_')[2].split('.')[0]   \n",
    "        \n",
    "        if basename1 == int(basename2):     #Compare l'année de la couche d'occupation des terres et la couche raster (ETRI)\n",
    "            \n",
    "            # Masquage des terres cultivées non irriguées et les zone hors des limites du la zone du projet\n",
    "            AETI = np.where((LCC==42)& (ProArea==1),AETI,np.nan)     \n",
    "    \n",
    "            # mettre à jour le nom du fichier, et l'enrégistrer dans le dossier de sortie\n",
    "            basename  = os.path.basename(AETIfh)\n",
    "            output_fn = os.path.join(output_folderAETI, basename)\n",
    "            gis.CreateGeoTiff(output_fn, AETI, driver, NDV, xsize, ysize, GeoT, Projection) "
   ]
  },
  {
   "cell_type": "markdown",
   "metadata": {},
   "source": [
    "### Filtrer les couches de l'évapotranspiration de référence"
   ]
  },
  {
   "cell_type": "code",
   "execution_count": 17,
   "metadata": {},
   "outputs": [],
   "source": [
    "# ollecter les Geoinfo tels que la projection, les axes x et y\n",
    "in_fh = input_fhsRET[0]   \n",
    "driver, NDV, xsize, ysize, GeoT, Projection = gis.GetGeoInfo(in_fh)\n",
    "spatial_extent = (GeoT[0], GeoT[0] + GeoT[1] * xsize, GeoT[3] + GeoT[5] * ysize, GeoT[3])  # Obtenir l'étendue spatiale du raster\n",
    "for RETfh in input_fhsRET:\n",
    "    for LCCfh in LCC_tifs:\n",
    "        RET = gis.OpenAsArray(RETfh,  nan_values=True)\n",
    "        LCC = gis.OpenAsArray(LCCfh, nan_values=True)\n",
    "        basename1  = os.path.basename(RETfh).split('_')[2].split('.')[0]   \n",
    "        basename1  = int(str(basename1)[:2])                              \n",
    "\n",
    "        basename2  = os.path.basename(LCCfh).split('_')[2].split('.')[0]  \n",
    "        \n",
    "        if basename1 == int(basename2):     #compare l'année de la couche d'occupation des terres et la couche raster (évapotranspiration de référence)\n",
    "            \n",
    "            # Masquage des terres cultivées non irriguées et les zone hors des limites du la zone du projet\n",
    "            RET = np.where((LCC==42)& (ProArea==1),RET,np.nan)     \n",
    "        \n",
    "            # mettre à jour le nom du fichier, et l'enrégistrer dans le dossier de sortie\n",
    "            basename  = os.path.basename(RETfh)\n",
    "            output_fn = os.path.join(output_folderRET, basename)\n",
    "            gis.CreateGeoTiff(output_fn, RET, driver, NDV, xsize, ysize, GeoT, Projection) "
   ]
  },
  {
   "cell_type": "markdown",
   "metadata": {},
   "source": [
    "### Filtrer les couche Production Primaire Nette (NPP)"
   ]
  },
  {
   "cell_type": "code",
   "execution_count": 18,
   "metadata": {},
   "outputs": [],
   "source": [
    "# ollecter les Geoinfo tels que la projection, les axes x et y\n",
    "in_fh = input_fhsNPP[0]   \n",
    "driver, NDV, xsize, ysize, GeoT, Projection = gis.GetGeoInfo(in_fh)\n",
    "spatial_extent = (GeoT[0], GeoT[0] + GeoT[1] * xsize, GeoT[3] + GeoT[5] * ysize, GeoT[3])  # Obtenir l'étendue spatiale du raster\n",
    "for NPPfh in input_fhsNPP:\n",
    "    for LCCfh in LCC_tifs:\n",
    "        NPP = gis.OpenAsArray(NPPfh,  nan_values=True)\n",
    "        LCC = gis.OpenAsArray(LCCfh, nan_values=True)\n",
    "        basename1  = os.path.basename(NPPfh).split('_')[2].split('.')[0]    \n",
    "        basename1  = int(str(basename1)[:2])                             \n",
    "\n",
    "        basename2  = os.path.basename(LCCfh).split('_')[2].split('.')[0]   \n",
    "        \n",
    "        if basename1 == int(basename2):     \n",
    "            \n",
    "            # Masquage des terres cultivées non irriguées et les zone hors des limites du la zone du projet\n",
    "            NPP = np.where((LCC==42)& (ProArea==1),NPP,np.nan)      \n",
    "            \n",
    "            # mettre à jour le nom du fichier, et l'enrégistrer dans le dossier de sortie\n",
    "            basename  = os.path.basename(NPPfh)\n",
    "            output_fn = os.path.join(output_folderNPP, basename)\n",
    "            gis.CreateGeoTiff(output_fn, NPP, driver, NDV, xsize, ysize, GeoT, Projection) "
   ]
  }
 ],
 "metadata": {
  "kernelspec": {
   "display_name": "Python 3",
   "language": "python",
   "name": "python3"
  },
  "language_info": {
   "codemirror_mode": {
    "name": "ipython",
    "version": 3
   },
   "file_extension": ".py",
   "mimetype": "text/x-python",
   "name": "python",
   "nbconvert_exporter": "python",
   "pygments_lexer": "ipython3",
   "version": "3.8.3"
  }
 },
 "nbformat": 4,
 "nbformat_minor": 2
}
